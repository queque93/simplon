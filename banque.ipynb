{
 "cells": [
  {
   "cell_type": "code",
   "execution_count": 1,
   "id": "f9748705",
   "metadata": {},
   "outputs": [],
   "source": [
    "import numpy as np\n",
    "import pandas as pd"
   ]
  },
  {
   "cell_type": "code",
   "execution_count": 2,
   "id": "1bde8aa6",
   "metadata": {},
   "outputs": [],
   "source": [
    "data = pd.read_csv(\"Dataset.csv\", sep=\";\", na_values=\"Unknown\")"
   ]
  },
  {
   "cell_type": "code",
   "execution_count": 3,
   "id": "091663f4",
   "metadata": {},
   "outputs": [],
   "source": [
    "df = data.copy()"
   ]
  },
  {
   "cell_type": "code",
   "execution_count": 4,
   "id": "1558d05c",
   "metadata": {},
   "outputs": [],
   "source": [
    "df.drop('CLIENTNUM', 1, inplace=True)"
   ]
  },
  {
   "cell_type": "code",
   "execution_count": 5,
   "id": "6dedf00c",
   "metadata": {},
   "outputs": [
    {
     "data": {
      "text/plain": [
       "Existing Customer    83.934038\n",
       "Attrited Customer    16.065962\n",
       "Name: Attrition_Flag, dtype: float64"
      ]
     },
     "execution_count": 5,
     "metadata": {},
     "output_type": "execute_result"
    }
   ],
   "source": [
    "df[\"Attrition_Flag\"].value_counts(normalize=True)*100"
   ]
  },
  {
   "cell_type": "markdown",
   "id": "3ea4b9a4",
   "metadata": {},
   "source": [
    "Nous avons deux modalités pour la variable cible `Attrition_Flag`\n",
    "\n",
    "- **Existing Customer**: 0\n",
    "- **Attrited Customer**: 1\n",
    "\n",
    "***On remarque une forte inegalité entre les proportions des modalités***"
   ]
  },
  {
   "cell_type": "markdown",
   "id": "26a0c303",
   "metadata": {},
   "source": [
    "### Pourcentage de données manquantes par variable"
   ]
  },
  {
   "cell_type": "code",
   "execution_count": 6,
   "id": "9c7891ef",
   "metadata": {},
   "outputs": [
    {
     "data": {
      "text/plain": [
       "Attrition_Flag               0.000000\n",
       "Customer_Age                 0.000000\n",
       "Gender                       0.000000\n",
       "Dependent_count              0.000000\n",
       "Education_Level             14.999506\n",
       "Marital_Status               7.396070\n",
       "Income_Category             10.980547\n",
       "Card_Category                0.000000\n",
       "Months_on_book               0.000000\n",
       "Total_Relationship_Count     0.000000\n",
       "Months_Inactive_12_mon       0.000000\n",
       "Contacts_Count_12_mon        0.000000\n",
       "Credit_Limit                 0.000000\n",
       "Total_Revolving_Bal          0.000000\n",
       "Avg_Open_To_Buy              0.000000\n",
       "Total_Amt_Chng_Q4_Q1         0.000000\n",
       "Total_Trans_Amt              0.000000\n",
       "Total_Trans_Ct               0.000000\n",
       "Total_Ct_Chng_Q4_Q1          0.000000\n",
       "Avg_Utilization_Ratio        0.000000\n",
       "dtype: float64"
      ]
     },
     "execution_count": 6,
     "metadata": {},
     "output_type": "execute_result"
    }
   ],
   "source": [
    "(df.isna().sum()/df.shape[0])*100"
   ]
  },
  {
   "cell_type": "markdown",
   "id": "cc1cfa63",
   "metadata": {},
   "source": [
    "Il n'y a pas de valeur manquante dans les variables quantitatives.\n",
    "\n",
    "Seule trois variables possèdent des donnés manquante dont le pourcentage est inférieur à 15%"
   ]
  },
  {
   "cell_type": "code",
   "execution_count": 7,
   "id": "f17121da",
   "metadata": {},
   "outputs": [
    {
     "name": "stdout",
     "output_type": "stream",
     "text": [
      "Ligne du dataframe: 10127\n",
      "Nombre de ligne manquante: 3046 \n",
      "Ratio de ligne manquante: 30.07800928211711\n"
     ]
    }
   ],
   "source": [
    "df_line = df.shape\n",
    "# Récupperer le nombre de lignes manquantes\n",
    "index_with_nan = df.index[df.isnull().any(axis=1)]\n",
    "nbr_df_nan = len(np.array(index_with_nan).reshape(-1, 1))\n",
    "print(f\"Ligne du dataframe: {df_line[0]}\")\n",
    "print(f\"Nombre de ligne manquante: {nbr_df_nan} \\nRatio de ligne manquante: {(nbr_df_nan/df_line[0])*100}\")"
   ]
  },
  {
   "cell_type": "code",
   "execution_count": 8,
   "id": "91a3eb30",
   "metadata": {},
   "outputs": [
    {
     "data": {
      "text/plain": [
       "7081"
      ]
     },
     "execution_count": 8,
     "metadata": {},
     "output_type": "execute_result"
    }
   ],
   "source": [
    "# Suppresion des données manquantes\n",
    "df.drop(index_with_nan, 0, inplace=True)\n",
    "df.shape[0]"
   ]
  },
  {
   "cell_type": "code",
   "execution_count": 9,
   "id": "fb59733e",
   "metadata": {},
   "outputs": [
    {
     "data": {
      "text/plain": [
       "Attrition_Flag              0.0\n",
       "Customer_Age                0.0\n",
       "Gender                      0.0\n",
       "Dependent_count             0.0\n",
       "Education_Level             0.0\n",
       "Marital_Status              0.0\n",
       "Income_Category             0.0\n",
       "Card_Category               0.0\n",
       "Months_on_book              0.0\n",
       "Total_Relationship_Count    0.0\n",
       "Months_Inactive_12_mon      0.0\n",
       "Contacts_Count_12_mon       0.0\n",
       "Credit_Limit                0.0\n",
       "Total_Revolving_Bal         0.0\n",
       "Avg_Open_To_Buy             0.0\n",
       "Total_Amt_Chng_Q4_Q1        0.0\n",
       "Total_Trans_Amt             0.0\n",
       "Total_Trans_Ct              0.0\n",
       "Total_Ct_Chng_Q4_Q1         0.0\n",
       "Avg_Utilization_Ratio       0.0\n",
       "dtype: float64"
      ]
     },
     "execution_count": 9,
     "metadata": {},
     "output_type": "execute_result"
    }
   ],
   "source": [
    "(df.isna().sum()/df.shape[0])*100"
   ]
  },
  {
   "cell_type": "markdown",
   "id": "ac0691d7",
   "metadata": {},
   "source": [
    "Il n' y a plus de données manquantes Dataset"
   ]
  },
  {
   "cell_type": "markdown",
   "id": "45f442b2",
   "metadata": {},
   "source": [
    "# Prétraitement\n",
    "### Donnée entraînement et de test"
   ]
  },
  {
   "cell_type": "code",
   "execution_count": 10,
   "id": "3ed008e0",
   "metadata": {},
   "outputs": [],
   "source": [
    "from sklearn.model_selection import train_test_split"
   ]
  },
  {
   "cell_type": "code",
   "execution_count": 11,
   "id": "4d7b27b0",
   "metadata": {},
   "outputs": [],
   "source": [
    "trainset, testset = train_test_split(df, test_size=0.25, random_state=0)"
   ]
  },
  {
   "cell_type": "code",
   "execution_count": 12,
   "id": "c9351151",
   "metadata": {},
   "outputs": [
    {
     "name": "stdout",
     "output_type": "stream",
     "text": [
      "Donnée d'entrainement:\n",
      "Existing Customer    0.839548\n",
      "Attrited Customer    0.160452\n",
      "Name: Attrition_Flag, dtype: float64\n",
      "\n",
      "\n",
      "Donnée de test:\n",
      "Existing Customer    0.852626\n",
      "Attrited Customer    0.147374\n",
      "Name: Attrition_Flag, dtype: float64\n"
     ]
    }
   ],
   "source": [
    "# On fait une découpe en respectant la repartition des données\n",
    "train = trainset['Attrition_Flag'].value_counts(normalize=True)\n",
    "test = testset['Attrition_Flag'].value_counts(normalize=True)\n",
    "print(f\"Donnée d'entrainement:\\n{train}\\n\\n\")\n",
    "print(f\"Donnée de test:\\n{test}\")"
   ]
  },
  {
   "cell_type": "markdown",
   "id": "07079649",
   "metadata": {},
   "source": [
    "### Encodage des variable qualitatives ordinales"
   ]
  },
  {
   "cell_type": "code",
   "execution_count": 13,
   "id": "890746f5",
   "metadata": {},
   "outputs": [],
   "source": [
    "\n",
    "def encode_features_ordinal(dataframe):\n",
    "    '''\n",
    "    Fonction permetant d'encoder des variables qualitatives ordinales\n",
    "    :param dataframe: Fournir un dataframe\n",
    "    :param variable: Fournir la liste de variable\n",
    "    '''\n",
    "    features_ordinals = ['Education_Level', 'Income_Category', 'Card_Category']\n",
    "    modalite = {\n",
    "    'Uneducated': 0,\n",
    "    'College': 1,\n",
    "    'High School': 2,\n",
    "    'Graduate': 3,\n",
    "    'Post-Graduate': 4,\n",
    "    'Doctorate': 5,\n",
    "    'Less than $40K': 0,\n",
    "    '$40K - $60K': 1,\n",
    "    '$60K - $80K': 2,\n",
    "    '$80K - $120K': 3,\n",
    "    '$120K +': 4,\n",
    "    'Blue': 0,\n",
    "    'Silver': 1,\n",
    "    'Gold': 2,\n",
    "    'Platinum': 3\n",
    "    }\n",
    "    for col in features_ordinals:\n",
    "        if dataframe[col].dtype == object:\n",
    "            dataframe.loc[:,col] = dataframe[col].map(modalite)\n",
    "    \n",
    "    return dataframe"
   ]
  },
  {
   "cell_type": "code",
   "execution_count": 14,
   "id": "f53d7746",
   "metadata": {},
   "outputs": [
    {
     "data": {
      "text/plain": [
       "Attrition_Flag              0.0\n",
       "Customer_Age                0.0\n",
       "Gender                      0.0\n",
       "Dependent_count             0.0\n",
       "Education_Level             0.0\n",
       "Marital_Status              0.0\n",
       "Income_Category             0.0\n",
       "Card_Category               0.0\n",
       "Months_on_book              0.0\n",
       "Total_Relationship_Count    0.0\n",
       "Months_Inactive_12_mon      0.0\n",
       "Contacts_Count_12_mon       0.0\n",
       "Credit_Limit                0.0\n",
       "Total_Revolving_Bal         0.0\n",
       "Avg_Open_To_Buy             0.0\n",
       "Total_Amt_Chng_Q4_Q1        0.0\n",
       "Total_Trans_Amt             0.0\n",
       "Total_Trans_Ct              0.0\n",
       "Total_Ct_Chng_Q4_Q1         0.0\n",
       "Avg_Utilization_Ratio       0.0\n",
       "dtype: float64"
      ]
     },
     "execution_count": 14,
     "metadata": {},
     "output_type": "execute_result"
    }
   ],
   "source": [
    "(df.isna().sum()/df.shape[0])*100"
   ]
  },
  {
   "cell_type": "markdown",
   "id": "029fa376",
   "metadata": {},
   "source": [
    "### Encodage des variable qualitatives nominales"
   ]
  },
  {
   "cell_type": "code",
   "execution_count": 15,
   "id": "47c3159f",
   "metadata": {},
   "outputs": [],
   "source": [
    "def encodin_nominale(datframe):\n",
    "    \"\"\"\n",
    "    Fonction permetant de faire l'encodage des varibles qualitative nominale \n",
    "    en supprimant la variable dependante\n",
    "    \"\"\"\n",
    "    features_nominals = ['Marital_Status', 'Gender']\n",
    "    \n",
    "    for var in features_nominals:\n",
    "        if datframe[var].dtypes == 'object':\n",
    "            modalite = datframe[var].unique()\n",
    "            for index, mod in enumerate(modalite):\n",
    "                if index == 0:\n",
    "                    continue\n",
    "                datframe[mod] = np.where(datframe[var]==mod, 1, 0)\n",
    "            datframe.drop(columns=var,axis=1,inplace=True)\n",
    "            \n",
    "    return datframe"
   ]
  },
  {
   "cell_type": "markdown",
   "id": "7fd25935",
   "metadata": {},
   "source": [
    "### Normalisation des variables qualitatives"
   ]
  },
  {
   "cell_type": "code",
   "execution_count": 16,
   "id": "e054aac1",
   "metadata": {},
   "outputs": [],
   "source": [
    "from sklearn.preprocessing import StandardScaler, RobustScaler"
   ]
  },
  {
   "cell_type": "code",
   "execution_count": 17,
   "id": "68738711",
   "metadata": {},
   "outputs": [],
   "source": [
    "from sklearn.compose import ColumnTransformer"
   ]
  },
  {
   "cell_type": "code",
   "execution_count": 18,
   "id": "ec26fc0a",
   "metadata": {},
   "outputs": [],
   "source": [
    "def getNumericFeatures():\n",
    "    numeric_features = []\n",
    "    for col in df.columns:\n",
    "        if df[col].dtypes == \"int64\" or df[col].dtypes == \"float64\":\n",
    "            numeric_features.append(col)\n",
    "\n",
    "    return numeric_features"
   ]
  },
  {
   "cell_type": "code",
   "execution_count": 19,
   "id": "8bdfa065",
   "metadata": {},
   "outputs": [],
   "source": [
    "df_test = df.copy()"
   ]
  },
  {
   "cell_type": "code",
   "execution_count": 20,
   "id": "d078a9e7",
   "metadata": {},
   "outputs": [],
   "source": [
    "numeric_features = getNumericFeatures()\n",
    "\n",
    "# nous appliquons à ces colonnes une transformation\n",
    "numeric_transformer = StandardScaler()\n",
    "\n",
    "# on combine toutes ces informations dans un objet de la\n",
    "# classe ColumnTransformer\n",
    "preprocessor = ColumnTransformer(\n",
    "transformers=[\n",
    "    ('num', numeric_transformer, numeric_features),\n",
    "    ]\n",
    ")"
   ]
  },
  {
   "cell_type": "code",
   "execution_count": null,
   "id": "9c7a34cf",
   "metadata": {},
   "outputs": [],
   "source": []
  },
  {
   "cell_type": "code",
   "execution_count": 21,
   "id": "d42bdeb9",
   "metadata": {},
   "outputs": [],
   "source": [
    "def preprocessing(dataframe):\n",
    "    \n",
    "    Y = dataframe['Attrition_Flag'].map({'Existing Customer': 0, 'Attrited Customer': 1})\n",
    "    X = dataframe.drop('Attrition_Flag', axis=1)\n",
    "    \n",
    "    X = encode_features_ordinal(X)\n",
    "    X = encodin_nominale(X)\n",
    "    \n",
    "    return X, Y\n",
    " "
   ]
  },
  {
   "cell_type": "code",
   "execution_count": 22,
   "id": "005ca70f",
   "metadata": {},
   "outputs": [],
   "source": [
    "X_train, Y_train = preprocessing(trainset)\n",
    "# on applique les transformations sur toutes les colonnes\n",
    "X_train[numeric_features] = preprocessor.fit_transform(X_train)"
   ]
  },
  {
   "cell_type": "code",
   "execution_count": 23,
   "id": "cc395a9a",
   "metadata": {},
   "outputs": [],
   "source": [
    "X_test, Y_test = preprocessing(testset)\n",
    "X_test[numeric_features] = preprocessor.transform(X_test)"
   ]
  },
  {
   "cell_type": "markdown",
   "id": "cb925162",
   "metadata": {},
   "source": [
    "# Modelisation & Evaluation"
   ]
  },
  {
   "cell_type": "code",
   "execution_count": 24,
   "id": "e75ed35b",
   "metadata": {},
   "outputs": [],
   "source": [
    "from sklearn.linear_model import LogisticRegression\n",
    "from sklearn.tree import DecisionTreeClassifier\n",
    "from sklearn.ensemble import RandomForestClassifier, AdaBoostClassifier, GradientBoostingClassifier\n",
    "from sklearn.svm import SVC\n",
    "from sklearn.metrics import classification_report, confusion_matrix\n",
    "import matplotlib.pyplot as plt\n",
    "from sklearn.model_selection import learning_curve\n",
    "import sklearn.metrics as metrics"
   ]
  },
  {
   "cell_type": "code",
   "execution_count": 25,
   "id": "fc82aa09",
   "metadata": {},
   "outputs": [],
   "source": [
    "import warnings\n",
    "warnings.filterwarnings(\"ignore\")"
   ]
  },
  {
   "cell_type": "code",
   "execution_count": 26,
   "id": "c1c1931d",
   "metadata": {},
   "outputs": [],
   "source": [
    "log = LogisticRegression(random_state=0)\n",
    "# model_tree = DecisionTreeClassifier(random_state=0)\n",
    "model_svc = SVC(random_state=0)\n",
    "model_boost = AdaBoostClassifier(random_state=0)\n",
    "modele_rf = RandomForestClassifier(random_state=0)\n",
    "gd_boost = GradientBoostingClassifier(random_state=0)"
   ]
  },
  {
   "cell_type": "code",
   "execution_count": 27,
   "id": "b9f8af8b",
   "metadata": {},
   "outputs": [],
   "source": [
    "dict_of_models = {'RandomForest': modele_rf,\n",
    "                  'AdaBoost' : model_boost,\n",
    "                  'SVM': model_svc,\n",
    "                  'LogisticRegression': log,\n",
    "                  'GradientBoostingClassifier': gd_boost\n",
    "#                   'DecisionTreeClassifier': DecisionTreeClassifier\n",
    "                 }"
   ]
  },
  {
   "cell_type": "code",
   "execution_count": 28,
   "id": "0d2a8798",
   "metadata": {},
   "outputs": [],
   "source": [
    "def evaluation(model):\n",
    "    \n",
    "    model.fit(X_train, Y_train)\n",
    "    ypred = model.predict(X_test)\n",
    "    \n",
    "    print(f\"Entraînement: {model.score(X_train, Y_train)}\\nTest: {model.score(X_test, Y_test)}\")\n",
    "    print(pd.DataFrame(confusion_matrix(Y_test, ypred)))\n",
    "    print(classification_report(Y_test, ypred))\n",
    "    \n",
    "    N, train_score, val_score = learning_curve(model, X_train, Y_train,\n",
    "                                               cv=4, scoring='recall',\n",
    "                                               train_sizes=np.linspace(0.1, 1, 10))\n",
    "    \n",
    "    plt.figure(figsize=(12, 5))\n",
    "    plt.plot(N, train_score.mean(axis=1), label='train score')\n",
    "    plt.plot(N, val_score.mean(axis=1), label='validation score')\n",
    "    plt.title(model, fontsize=24)\n",
    "    plt.legend()"
   ]
  },
  {
   "cell_type": "code",
   "execution_count": 29,
   "id": "afeff9d0",
   "metadata": {
    "scrolled": false
   },
   "outputs": [
    {
     "name": "stdout",
     "output_type": "stream",
     "text": [
      "RandomForest\n",
      "Entraînement: 1.0\n",
      "Test: 0.9632975719932242\n",
      "      0    1\n",
      "0  1502    8\n",
      "1    57  204\n",
      "              precision    recall  f1-score   support\n",
      "\n",
      "           0       0.96      0.99      0.98      1510\n",
      "           1       0.96      0.78      0.86       261\n",
      "\n",
      "    accuracy                           0.96      1771\n",
      "   macro avg       0.96      0.89      0.92      1771\n",
      "weighted avg       0.96      0.96      0.96      1771\n",
      "\n",
      "AdaBoost\n",
      "Entraînement: 0.9619585687382297\n",
      "Test: 0.9531338226990401\n",
      "      0    1\n",
      "0  1476   34\n",
      "1    49  212\n",
      "              precision    recall  f1-score   support\n",
      "\n",
      "           0       0.97      0.98      0.97      1510\n",
      "           1       0.86      0.81      0.84       261\n",
      "\n",
      "    accuracy                           0.95      1771\n",
      "   macro avg       0.91      0.89      0.90      1771\n",
      "weighted avg       0.95      0.95      0.95      1771\n",
      "\n",
      "SVM\n",
      "Entraînement: 0.9410546139359699\n",
      "Test: 0.9333709768492378\n",
      "      0    1\n",
      "0  1489   21\n",
      "1    97  164\n",
      "              precision    recall  f1-score   support\n",
      "\n",
      "           0       0.94      0.99      0.96      1510\n",
      "           1       0.89      0.63      0.74       261\n",
      "\n",
      "    accuracy                           0.93      1771\n",
      "   macro avg       0.91      0.81      0.85      1771\n",
      "weighted avg       0.93      0.93      0.93      1771\n",
      "\n",
      "LogisticRegression\n",
      "Entraînement: 0.9037664783427495\n",
      "Test: 0.9040090344438171\n",
      "      0    1\n",
      "0  1460   50\n",
      "1   120  141\n",
      "              precision    recall  f1-score   support\n",
      "\n",
      "           0       0.92      0.97      0.94      1510\n",
      "           1       0.74      0.54      0.62       261\n",
      "\n",
      "    accuracy                           0.90      1771\n",
      "   macro avg       0.83      0.75      0.78      1771\n",
      "weighted avg       0.90      0.90      0.90      1771\n",
      "\n",
      "GradientBoostingClassifier\n",
      "Entraînement: 0.975894538606403\n",
      "Test: 0.96386222473179\n",
      "      0    1\n",
      "0  1496   14\n",
      "1    50  211\n",
      "              precision    recall  f1-score   support\n",
      "\n",
      "           0       0.97      0.99      0.98      1510\n",
      "           1       0.94      0.81      0.87       261\n",
      "\n",
      "    accuracy                           0.96      1771\n",
      "   macro avg       0.95      0.90      0.92      1771\n",
      "weighted avg       0.96      0.96      0.96      1771\n",
      "\n"
     ]
    },
    {
     "data": {
      "image/png": "[encoded data removed]",
      "text/plain": [
       "<Figure size 864x360 with 1 Axes>"
      ]
     },
     "metadata": {
      "needs_background": "light"
     },
     "output_type": "display_data"
    },
    {
     "data": {
      "image/png": "[encoded data removed]",
      "text/plain": [
       "<Figure size 864x360 with 1 Axes>"
      ]
     },
     "metadata": {
      "needs_background": "light"
     },
     "output_type": "display_data"
    },
    {
     "data": {
      "image/png": "[encoded data removed]",
      "text/plain": [
       "<Figure size 864x360 with 1 Axes>"
      ]
     },
     "metadata": {
      "needs_background": "light"
     },
     "output_type": "display_data"
    },
    {
     "data": {
      "image/png": "[encoded data removed]",
      "text/plain": [
       "<Figure size 864x360 with 1 Axes>"
      ]
     },
     "metadata": {
      "needs_background": "light"
     },
     "output_type": "display_data"
    },
    {
     "data": {
      "image/png": "[encoded data removed]",
      "text/plain": [
       "<Figure size 864x360 with 1 Axes>"
      ]
     },
     "metadata": {
      "needs_background": "light"
     },
     "output_type": "display_data"
    }
   ],
   "source": [
    "for name, model in dict_of_models.items():\n",
    "    print(name)\n",
    "    evaluation(model)"
   ]
  },
  {
   "cell_type": "markdown",
   "id": "c7988ed2",
   "metadata": {},
   "source": [
    "**Dans cet exemple le meilleur modèle est le Adaboost**\n",
    "\n",
    "Nous pourions envisager de travailler avec:\n",
    "- Le modèle de **`AdaBoost`**\n",
    "- Le modèle de **`RandomForest`**\n",
    "\n",
    "En nous bassant sur `l'accuracy` ***le taux de bien classé***\n",
    "\n",
    "et le `recall` de bien classé pour ***la modalité positive***\n",
    "\n",
    "Le Modèle SVM n'arrive pas à avoir de bonne performance"
   ]
  },
  {
   "cell_type": "markdown",
   "id": "41802eee",
   "metadata": {},
   "source": [
    "## Feature selection"
   ]
  },
  {
   "cell_type": "code",
   "execution_count": 30,
   "id": "db2e5b03",
   "metadata": {},
   "outputs": [
    {
     "data": {
      "text/plain": [
       "array([2.07033311e-02, 4.97596297e-04, 4.85747013e-05, 5.78768964e-04,\n",
       "       1.26117115e-03, 1.45699215e-03, 8.68971092e-02, 2.09646555e-02,\n",
       "       1.38454095e-02, 7.32003001e-04, 1.86261324e-01, 2.07240657e-03,\n",
       "       4.63829511e-02, 1.98787242e-01, 3.12076635e-01, 1.03502445e-01,\n",
       "       2.41483455e-03, 2.45009842e-04, 6.02766242e-06, 1.26551215e-03])"
      ]
     },
     "execution_count": 30,
     "metadata": {},
     "output_type": "execute_result"
    }
   ],
   "source": [
    "gd_boost.feature_importances_"
   ]
  },
  {
   "cell_type": "code",
   "execution_count": 31,
   "id": "a5130c8f",
   "metadata": {},
   "outputs": [
    {
     "data": {
      "text/plain": [
       "<AxesSubplot:>"
      ]
     },
     "execution_count": 31,
     "metadata": {},
     "output_type": "execute_result"
    },
    {
     "data": {
      "image/png": "[encoded data removed]",
      "text/plain": [
       "<Figure size 864x360 with 1 Axes>"
      ]
     },
     "metadata": {
      "needs_background": "light"
     },
     "output_type": "display_data"
    }
   ],
   "source": [
    "pd.DataFrame(gd_boost.feature_importances_, index=X_train.columns).plot.bar(figsize=(12, 5))"
   ]
  },
  {
   "cell_type": "code",
   "execution_count": 32,
   "id": "1ccaf98c",
   "metadata": {},
   "outputs": [
    {
     "data": {
      "text/plain": [
       "<AxesSubplot:>"
      ]
     },
     "execution_count": 32,
     "metadata": {},
     "output_type": "execute_result"
    },
    {
     "data": {
      "image/png": "[encoded data removed]",
      "text/plain": [
       "<Figure size 864x360 with 1 Axes>"
      ]
     },
     "metadata": {
      "needs_background": "light"
     },
     "output_type": "display_data"
    }
   ],
   "source": [
    "pd.DataFrame(model_boost.feature_importances_, index=X_train.columns).plot.bar(figsize=(12, 5))"
   ]
  },
  {
   "cell_type": "code",
   "execution_count": 33,
   "id": "7107f0af",
   "metadata": {},
   "outputs": [
    {
     "data": {
      "text/html": [
       "<div>\n",
       "<style scoped>\n",
       "    .dataframe tbody tr th:only-of-type {\n",
       "        vertical-align: middle;\n",
       "    }\n",
       "\n",
       "    .dataframe tbody tr th {\n",
       "        vertical-align: top;\n",
       "    }\n",
       "\n",
       "    .dataframe thead th {\n",
       "        text-align: right;\n",
       "    }\n",
       "</style>\n",
       "<table border=\"1\" class=\"dataframe\">\n",
       "  <thead>\n",
       "    <tr style=\"text-align: right;\">\n",
       "      <th></th>\n",
       "      <th>Customer_Age</th>\n",
       "      <th>Total_Relationship_Count</th>\n",
       "      <th>Contacts_Count_12_mon</th>\n",
       "      <th>Total_Revolving_Bal</th>\n",
       "      <th>Avg_Open_To_Buy</th>\n",
       "      <th>Total_Amt_Chng_Q4_Q1</th>\n",
       "      <th>Total_Trans_Amt</th>\n",
       "      <th>Total_Trans_Ct</th>\n",
       "      <th>Total_Ct_Chng_Q4_Q1</th>\n",
       "    </tr>\n",
       "  </thead>\n",
       "  <tbody>\n",
       "    <tr>\n",
       "      <th>0</th>\n",
       "      <td>True</td>\n",
       "      <td>True</td>\n",
       "      <td>True</td>\n",
       "      <td>True</td>\n",
       "      <td>True</td>\n",
       "      <td>True</td>\n",
       "      <td>True</td>\n",
       "      <td>True</td>\n",
       "      <td>True</td>\n",
       "    </tr>\n",
       "  </tbody>\n",
       "</table>\n",
       "</div>"
      ],
      "text/plain": [
       "   Customer_Age  Total_Relationship_Count  Contacts_Count_12_mon  \\\n",
       "0          True                      True                   True   \n",
       "\n",
       "   Total_Revolving_Bal  Avg_Open_To_Buy  Total_Amt_Chng_Q4_Q1  \\\n",
       "0                 True             True                  True   \n",
       "\n",
       "   Total_Trans_Amt  Total_Trans_Ct  Total_Ct_Chng_Q4_Q1  \n",
       "0             True            True                 True  "
      ]
     },
     "execution_count": 33,
     "metadata": {},
     "output_type": "execute_result"
    }
   ],
   "source": [
    "feature_model_boost = pd.DataFrame(model_boost.feature_importances_, index=X_train.columns)\n",
    "best_data1 = feature_model_boost.T\n",
    "b = pd.DataFrame(best_data1>=0.04)\n",
    "b[b == True].dropna(1)"
   ]
  },
  {
   "cell_type": "code",
   "execution_count": 34,
   "id": "85efc3a4",
   "metadata": {},
   "outputs": [
    {
     "data": {
      "text/html": [
       "<div>\n",
       "<style scoped>\n",
       "    .dataframe tbody tr th:only-of-type {\n",
       "        vertical-align: middle;\n",
       "    }\n",
       "\n",
       "    .dataframe tbody tr th {\n",
       "        vertical-align: top;\n",
       "    }\n",
       "\n",
       "    .dataframe thead th {\n",
       "        text-align: right;\n",
       "    }\n",
       "</style>\n",
       "<table border=\"1\" class=\"dataframe\">\n",
       "  <thead>\n",
       "    <tr style=\"text-align: right;\">\n",
       "      <th></th>\n",
       "      <th>Customer_Age</th>\n",
       "      <th>Total_Relationship_Count</th>\n",
       "      <th>Contacts_Count_12_mon</th>\n",
       "      <th>Total_Revolving_Bal</th>\n",
       "      <th>Avg_Open_To_Buy</th>\n",
       "      <th>Total_Amt_Chng_Q4_Q1</th>\n",
       "      <th>Total_Trans_Amt</th>\n",
       "      <th>Total_Trans_Ct</th>\n",
       "      <th>Total_Ct_Chng_Q4_Q1</th>\n",
       "    </tr>\n",
       "  </thead>\n",
       "  <tbody>\n",
       "    <tr>\n",
       "      <th>0</th>\n",
       "      <td>True</td>\n",
       "      <td>True</td>\n",
       "      <td>True</td>\n",
       "      <td>True</td>\n",
       "      <td>True</td>\n",
       "      <td>True</td>\n",
       "      <td>True</td>\n",
       "      <td>True</td>\n",
       "      <td>True</td>\n",
       "    </tr>\n",
       "  </tbody>\n",
       "</table>\n",
       "</div>"
      ],
      "text/plain": [
       "   Customer_Age  Total_Relationship_Count  Contacts_Count_12_mon  \\\n",
       "0          True                      True                   True   \n",
       "\n",
       "   Total_Revolving_Bal  Avg_Open_To_Buy  Total_Amt_Chng_Q4_Q1  \\\n",
       "0                 True             True                  True   \n",
       "\n",
       "   Total_Trans_Amt  Total_Trans_Ct  Total_Ct_Chng_Q4_Q1  \n",
       "0             True            True                 True  "
      ]
     },
     "execution_count": 34,
     "metadata": {},
     "output_type": "execute_result"
    }
   ],
   "source": [
    "feature_gd_boost = pd.DataFrame(gd_boost.feature_importances_, index=X_train.columns)\n",
    "best_data2 = feature_model_boost.T\n",
    "a = pd.DataFrame(best_data2>=0.04)\n",
    "a = a[a==True].dropna(1)\n",
    "a"
   ]
  },
  {
   "cell_type": "code",
   "execution_count": 35,
   "id": "0a7c334b",
   "metadata": {},
   "outputs": [
    {
     "data": {
      "text/plain": [
       "Index(['Customer_Age', 'Total_Relationship_Count', 'Contacts_Count_12_mon',\n",
       "       'Total_Revolving_Bal', 'Avg_Open_To_Buy', 'Total_Amt_Chng_Q4_Q1',\n",
       "       'Total_Trans_Amt', 'Total_Trans_Ct', 'Total_Ct_Chng_Q4_Q1'],\n",
       "      dtype='object')"
      ]
     },
     "execution_count": 35,
     "metadata": {},
     "output_type": "execute_result"
    }
   ],
   "source": [
    "a.columns"
   ]
  },
  {
   "cell_type": "markdown",
   "id": "d42b2ba3",
   "metadata": {},
   "source": [
    "Selection des variables les plus pertinantes pour les deux meilleurs modèles"
   ]
  },
  {
   "cell_type": "code",
   "execution_count": 36,
   "id": "754907d7",
   "metadata": {},
   "outputs": [
    {
     "data": {
      "text/html": [
       "<div>\n",
       "<style scoped>\n",
       "    .dataframe tbody tr th:only-of-type {\n",
       "        vertical-align: middle;\n",
       "    }\n",
       "\n",
       "    .dataframe tbody tr th {\n",
       "        vertical-align: top;\n",
       "    }\n",
       "\n",
       "    .dataframe thead th {\n",
       "        text-align: right;\n",
       "    }\n",
       "</style>\n",
       "<table border=\"1\" class=\"dataframe\">\n",
       "  <thead>\n",
       "    <tr style=\"text-align: right;\">\n",
       "      <th></th>\n",
       "      <th>Customer_Age</th>\n",
       "      <th>Total_Relationship_Count</th>\n",
       "      <th>Contacts_Count_12_mon</th>\n",
       "      <th>Total_Revolving_Bal</th>\n",
       "      <th>Avg_Open_To_Buy</th>\n",
       "      <th>Total_Amt_Chng_Q4_Q1</th>\n",
       "      <th>Total_Trans_Amt</th>\n",
       "      <th>Total_Trans_Ct</th>\n",
       "      <th>Total_Ct_Chng_Q4_Q1</th>\n",
       "    </tr>\n",
       "  </thead>\n",
       "  <tbody>\n",
       "    <tr>\n",
       "      <th>6432</th>\n",
       "      <td>1.209404</td>\n",
       "      <td>1.408135</td>\n",
       "      <td>0.508654</td>\n",
       "      <td>0.595922</td>\n",
       "      <td>-0.549165</td>\n",
       "      <td>1.041278</td>\n",
       "      <td>0.303349</td>\n",
       "      <td>0.276105</td>\n",
       "      <td>0.090206</td>\n",
       "    </tr>\n",
       "    <tr>\n",
       "      <th>7601</th>\n",
       "      <td>0.214526</td>\n",
       "      <td>-0.530637</td>\n",
       "      <td>-1.299214</td>\n",
       "      <td>-0.545775</td>\n",
       "      <td>-0.565366</td>\n",
       "      <td>0.816512</td>\n",
       "      <td>-0.046934</td>\n",
       "      <td>0.569730</td>\n",
       "      <td>-0.499806</td>\n",
       "    </tr>\n",
       "    <tr>\n",
       "      <th>326</th>\n",
       "      <td>1.209404</td>\n",
       "      <td>-0.530637</td>\n",
       "      <td>-0.395280</td>\n",
       "      <td>0.235322</td>\n",
       "      <td>-0.294330</td>\n",
       "      <td>-0.346985</td>\n",
       "      <td>-0.762555</td>\n",
       "      <td>-0.646719</td>\n",
       "      <td>-0.546164</td>\n",
       "    </tr>\n",
       "    <tr>\n",
       "      <th>7495</th>\n",
       "      <td>0.090167</td>\n",
       "      <td>0.115620</td>\n",
       "      <td>0.508654</td>\n",
       "      <td>-0.325748</td>\n",
       "      <td>-0.658302</td>\n",
       "      <td>-0.369021</td>\n",
       "      <td>0.068573</td>\n",
       "      <td>1.240875</td>\n",
       "      <td>-0.820097</td>\n",
       "    </tr>\n",
       "    <tr>\n",
       "      <th>693</th>\n",
       "      <td>-1.153430</td>\n",
       "      <td>0.761878</td>\n",
       "      <td>-0.395280</td>\n",
       "      <td>1.655720</td>\n",
       "      <td>-0.800607</td>\n",
       "      <td>0.582931</td>\n",
       "      <td>-0.738527</td>\n",
       "      <td>-0.017521</td>\n",
       "      <td>-0.786382</td>\n",
       "    </tr>\n",
       "    <tr>\n",
       "      <th>...</th>\n",
       "      <td>...</td>\n",
       "      <td>...</td>\n",
       "      <td>...</td>\n",
       "      <td>...</td>\n",
       "      <td>...</td>\n",
       "      <td>...</td>\n",
       "      <td>...</td>\n",
       "      <td>...</td>\n",
       "      <td>...</td>\n",
       "    </tr>\n",
       "    <tr>\n",
       "      <th>1235</th>\n",
       "      <td>0.090167</td>\n",
       "      <td>-0.530637</td>\n",
       "      <td>1.412589</td>\n",
       "      <td>0.485908</td>\n",
       "      <td>-0.197781</td>\n",
       "      <td>-0.840589</td>\n",
       "      <td>-0.843323</td>\n",
       "      <td>-0.856452</td>\n",
       "      <td>0.208208</td>\n",
       "    </tr>\n",
       "    <tr>\n",
       "      <th>5883</th>\n",
       "      <td>-1.899588</td>\n",
       "      <td>0.115620</td>\n",
       "      <td>0.508654</td>\n",
       "      <td>0.731605</td>\n",
       "      <td>-0.694973</td>\n",
       "      <td>-0.413093</td>\n",
       "      <td>-0.006695</td>\n",
       "      <td>1.031142</td>\n",
       "      <td>-0.263801</td>\n",
       "    </tr>\n",
       "    <tr>\n",
       "      <th>594</th>\n",
       "      <td>-0.282912</td>\n",
       "      <td>1.408135</td>\n",
       "      <td>0.508654</td>\n",
       "      <td>-1.420995</td>\n",
       "      <td>-0.016726</td>\n",
       "      <td>-0.346985</td>\n",
       "      <td>-1.001963</td>\n",
       "      <td>-1.947061</td>\n",
       "      <td>-0.887527</td>\n",
       "    </tr>\n",
       "    <tr>\n",
       "      <th>7078</th>\n",
       "      <td>-0.531632</td>\n",
       "      <td>0.761878</td>\n",
       "      <td>-0.395280</td>\n",
       "      <td>-0.070272</td>\n",
       "      <td>-0.665198</td>\n",
       "      <td>-0.126626</td>\n",
       "      <td>-0.056487</td>\n",
       "      <td>0.527784</td>\n",
       "      <td>0.001704</td>\n",
       "    </tr>\n",
       "    <tr>\n",
       "      <th>9317</th>\n",
       "      <td>0.090167</td>\n",
       "      <td>-1.823152</td>\n",
       "      <td>-0.395280</td>\n",
       "      <td>-0.665568</td>\n",
       "      <td>1.048919</td>\n",
       "      <td>0.675482</td>\n",
       "      <td>3.210992</td>\n",
       "      <td>2.667057</td>\n",
       "      <td>-0.112084</td>\n",
       "    </tr>\n",
       "  </tbody>\n",
       "</table>\n",
       "<p>1771 rows × 9 columns</p>\n",
       "</div>"
      ],
      "text/plain": [
       "      Customer_Age  Total_Relationship_Count  Contacts_Count_12_mon  \\\n",
       "6432      1.209404                  1.408135               0.508654   \n",
       "7601      0.214526                 -0.530637              -1.299214   \n",
       "326       1.209404                 -0.530637              -0.395280   \n",
       "7495      0.090167                  0.115620               0.508654   \n",
       "693      -1.153430                  0.761878              -0.395280   \n",
       "...            ...                       ...                    ...   \n",
       "1235      0.090167                 -0.530637               1.412589   \n",
       "5883     -1.899588                  0.115620               0.508654   \n",
       "594      -0.282912                  1.408135               0.508654   \n",
       "7078     -0.531632                  0.761878              -0.395280   \n",
       "9317      0.090167                 -1.823152              -0.395280   \n",
       "\n",
       "      Total_Revolving_Bal  Avg_Open_To_Buy  Total_Amt_Chng_Q4_Q1  \\\n",
       "6432             0.595922        -0.549165              1.041278   \n",
       "7601            -0.545775        -0.565366              0.816512   \n",
       "326              0.235322        -0.294330             -0.346985   \n",
       "7495            -0.325748        -0.658302             -0.369021   \n",
       "693              1.655720        -0.800607              0.582931   \n",
       "...                   ...              ...                   ...   \n",
       "1235             0.485908        -0.197781             -0.840589   \n",
       "5883             0.731605        -0.694973             -0.413093   \n",
       "594             -1.420995        -0.016726             -0.346985   \n",
       "7078            -0.070272        -0.665198             -0.126626   \n",
       "9317            -0.665568         1.048919              0.675482   \n",
       "\n",
       "      Total_Trans_Amt  Total_Trans_Ct  Total_Ct_Chng_Q4_Q1  \n",
       "6432         0.303349        0.276105             0.090206  \n",
       "7601        -0.046934        0.569730            -0.499806  \n",
       "326         -0.762555       -0.646719            -0.546164  \n",
       "7495         0.068573        1.240875            -0.820097  \n",
       "693         -0.738527       -0.017521            -0.786382  \n",
       "...               ...             ...                  ...  \n",
       "1235        -0.843323       -0.856452             0.208208  \n",
       "5883        -0.006695        1.031142            -0.263801  \n",
       "594         -1.001963       -1.947061            -0.887527  \n",
       "7078        -0.056487        0.527784             0.001704  \n",
       "9317         3.210992        2.667057            -0.112084  \n",
       "\n",
       "[1771 rows x 9 columns]"
      ]
     },
     "execution_count": 36,
     "metadata": {},
     "output_type": "execute_result"
    }
   ],
   "source": [
    "X_train = X_train[a.columns]\n",
    "X_test = X_test[a.columns]\n",
    "X_test"
   ]
  },
  {
   "cell_type": "code",
   "execution_count": null,
   "id": "238aa5b2",
   "metadata": {},
   "outputs": [],
   "source": []
  },
  {
   "cell_type": "code",
   "execution_count": 37,
   "id": "6bb495f8",
   "metadata": {
    "scrolled": false
   },
   "outputs": [],
   "source": [
    "# for name, model in dict_of_models.items():\n",
    "#     print(name)\n",
    "#     evaluation(model)"
   ]
  },
  {
   "cell_type": "code",
   "execution_count": 38,
   "id": "8f89d10a",
   "metadata": {},
   "outputs": [],
   "source": [
    "# import h2o\n",
    "# from h2o.automl import H2OAutoML"
   ]
  },
  {
   "cell_type": "code",
   "execution_count": 39,
   "id": "d6f8b0d6",
   "metadata": {},
   "outputs": [],
   "source": [
    "# h2o.init()"
   ]
  },
  {
   "cell_type": "code",
   "execution_count": 40,
   "id": "0636988c",
   "metadata": {},
   "outputs": [],
   "source": [
    "# aml = H2OAutoML(max_models=20, seed=1)\n",
    "# aml.train(x=X_train, y=Y_train, training_frame=None)"
   ]
  },
  {
   "cell_type": "code",
   "execution_count": 41,
   "id": "bf99f5f0",
   "metadata": {},
   "outputs": [
    {
     "name": "stdout",
     "output_type": "stream",
     "text": [
      "GradientBoostingClassifier(random_state=0)\n"
     ]
    }
   ],
   "source": [
    "print(gd_boost)"
   ]
  },
  {
   "cell_type": "code",
   "execution_count": 42,
   "id": "ddb89896",
   "metadata": {},
   "outputs": [],
   "source": [
    "# from sklearn.model_selection import GridSearchCV"
   ]
  },
  {
   "cell_type": "code",
   "execution_count": 43,
   "id": "f714844c",
   "metadata": {},
   "outputs": [],
   "source": [
    "# # construction des dictionnaires d’hyperparamètres\n",
    "# dico_param_rf={\n",
    "#     \"learning_rate\":[0.001,0.01,0.1,0.25,0.5, 0.3, 0.4],\n",
    "#     \"max_depth\":[1,2,3,4,5,6,7,8],\n",
    "# #     \"max_features\": [1,2,3,4,5,6,7,8]\n",
    "# }\n",
    "# dico_param_knn={\"n_neighbors\":[2,5,10,50],\"weights\":['uniform','distance']}\n",
    "\n",
    "# modele_grid_gd=GridSearchCV(gd_boost,dico_param_rf,\n",
    "#                             scoring=\"recall\",cv=5)\n",
    "\n",
    "# # modele_grid_knn=GridSearchCV(modele_knn, dico_param_knn,\n",
    "# #                              scoring=\"roc_auc\",cv=5)"
   ]
  },
  {
   "cell_type": "code",
   "execution_count": 44,
   "id": "84c4fa37",
   "metadata": {},
   "outputs": [],
   "source": [
    "# # estimation des paramètres et des meilleurs modèles\n",
    "# modele_grid_gd.fit(X_train,Y_train)"
   ]
  },
  {
   "cell_type": "code",
   "execution_count": 45,
   "id": "66d672eb",
   "metadata": {},
   "outputs": [],
   "source": [
    "# estimation des paramètres et des meilleurs modèles\n",
    "# modele_grid_knn.fit(x_train,y_train)"
   ]
  },
  {
   "cell_type": "code",
   "execution_count": 46,
   "id": "bc06f110",
   "metadata": {},
   "outputs": [],
   "source": [
    "# # affichage des AUC pour la combinaison obtenant\n",
    "# # les meilleurs résultats\n",
    "# print(\"Meilleurs paramètres GD:\", modele_grid_gd.best_params_)\n",
    "# print(\"AUC - GD:\", modele_grid_gd.best_score_)\n",
    "# # print(\"Meilleurs paramètres kNN:\", modele_grid_knn.best_params_)\n",
    "# # print(\"AUC - kNN:\", modele_grid_knn.best_score_)"
   ]
  },
  {
   "cell_type": "code",
   "execution_count": 47,
   "id": "12ae74a5",
   "metadata": {},
   "outputs": [],
   "source": [
    "# print(\"Meilleurs paramètres GD:\", modele_grid_gd.best_estimator_)"
   ]
  },
  {
   "cell_type": "code",
   "execution_count": 48,
   "id": "8c8876c3",
   "metadata": {},
   "outputs": [],
   "source": [
    "gd_boost = GradientBoostingClassifier(learning_rate=0.4, max_depth=3, random_state=0)"
   ]
  },
  {
   "cell_type": "code",
   "execution_count": 49,
   "id": "8f59f479",
   "metadata": {},
   "outputs": [
    {
     "name": "stdout",
     "output_type": "stream",
     "text": [
      "Entraînement: 0.9979284369114878\n",
      "Test: 0.968944099378882\n",
      "      0    1\n",
      "0  1490   20\n",
      "1    35  226\n",
      "              precision    recall  f1-score   support\n",
      "\n",
      "           0       0.98      0.99      0.98      1510\n",
      "           1       0.92      0.87      0.89       261\n",
      "\n",
      "    accuracy                           0.97      1771\n",
      "   macro avg       0.95      0.93      0.94      1771\n",
      "weighted avg       0.97      0.97      0.97      1771\n",
      "\n"
     ]
    },
    {
     "data": {
      "text/plain": [
       "<matplotlib.legend.Legend at 0x25dd44f0190>"
      ]
     },
     "execution_count": 49,
     "metadata": {},
     "output_type": "execute_result"
    },
    {
     "data": {
      "image/png": "[encoded data removed]",
      "text/plain": [
       "<Figure size 864x360 with 1 Axes>"
      ]
     },
     "metadata": {
      "needs_background": "light"
     },
     "output_type": "display_data"
    }
   ],
   "source": [
    "gd_boost.fit(X_train, Y_train)\n",
    "ypred = gd_boost.predict(X_test)\n",
    "\n",
    "print(f\"Entraînement: {gd_boost.score(X_train, Y_train)}\\nTest: {gd_boost.score(X_test, Y_test)}\")\n",
    "print(pd.DataFrame(confusion_matrix(Y_test, ypred)))\n",
    "print(classification_report(Y_test, ypred))\n",
    "\n",
    "N, train_score, val_score = learning_curve(gd_boost, X_train, Y_train,\n",
    "                                           cv=4, scoring='recall',\n",
    "                                           train_sizes=np.linspace(0.1, 1, 10))\n",
    "\n",
    "plt.figure(figsize=(12, 5))\n",
    "plt.plot(N, train_score.mean(axis=1), label='train score')\n",
    "plt.plot(N, val_score.mean(axis=1), label='validation score')\n",
    "plt.title(gd_boost, fontsize=24)\n",
    "plt.legend()"
   ]
  },
  {
   "cell_type": "code",
   "execution_count": 50,
   "id": "f402f673",
   "metadata": {},
   "outputs": [],
   "source": [
    "# from dataprep.eda import *"
   ]
  },
  {
   "cell_type": "code",
   "execution_count": 51,
   "id": "bf394749",
   "metadata": {},
   "outputs": [],
   "source": [
    "# report = create_report(df=data, title='My Report originale', progress=False)"
   ]
  },
  {
   "cell_type": "code",
   "execution_count": 52,
   "id": "718b6f82",
   "metadata": {},
   "outputs": [],
   "source": [
    "# report.show_browser()"
   ]
  },
  {
   "cell_type": "code",
   "execution_count": 53,
   "id": "73717e0f",
   "metadata": {},
   "outputs": [],
   "source": [
    "# report.save(filename='report_originale', to='~/Desktop')"
   ]
  }
 ],
 "metadata": {
  "kernelspec": {
   "display_name": "Python 3",
   "language": "python",
   "name": "python3"
  },
  "language_info": {
   "codemirror_mode": {
    "name": "ipython",
    "version": 3
   },
   "file_extension": ".py",
   "mimetype": "text/x-python",
   "name": "python",
   "nbconvert_exporter": "python",
   "pygments_lexer": "ipython3",
   "version": "3.8.5"
  }
 },
 "nbformat": 4,
 "nbformat_minor": 5
}
