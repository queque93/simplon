{
 "cells": [
  {
   "cell_type": "markdown",
   "metadata": {},
   "source": [
    "# IMPORTATION DES DONNEES ET CHARGEMENT DE LA LIBRAIRIE"
   ]
  },
  {
   "cell_type": "code",
   "execution_count": 1,
   "metadata": {},
   "outputs": [],
   "source": [
    "import pandas as pd \n",
    "import matplotlib.pyplot as plt \n",
    "import seaborn as sb\n",
    "import numpy as np\n",
    "from ipywidgets import interact\n",
    "\n",
    "# les méthodes de prétraitement\n",
    "\n",
    "from sklearn.model_selection import train_test_split\n",
    "\n",
    "from sklearn.preprocessing import StandardScaler, RobustScaler, MinMaxScaler\n",
    "\n",
    "# les modeles de machine learning pour la situation\n",
    "\n",
    "from sklearn.model_selection import GridSearchCV\n",
    "\n",
    "from sklearn.model_selection import learning_curve\n",
    "\n",
    "from sklearn.linear_model import LogisticRegression\n",
    "\n",
    "from sklearn.ensemble import RandomForestClassifier,BaggingClassifier\n",
    "\n",
    "from sklearn.svm import SVC\n",
    "\n",
    "from sklearn.metrics import  classification_report, accuracy_score\n",
    "\n",
    "import warnings \n",
    "warnings.filterwarnings('ignore')"
   ]
  },
  {
   "cell_type": "code",
   "execution_count": 2,
   "metadata": {},
   "outputs": [],
   "source": [
    "df=pd.read_excel('heart_disease.xlsx')"
   ]
  },
  {
   "cell_type": "code",
   "execution_count": 3,
   "metadata": {},
   "outputs": [],
   "source": [
    "data = df.copy()"
   ]
  },
  {
   "cell_type": "code",
   "execution_count": 4,
   "metadata": {},
   "outputs": [
    {
     "data": {
      "text/html": [
       "<div>\n",
       "<style scoped>\n",
       "    .dataframe tbody tr th:only-of-type {\n",
       "        vertical-align: middle;\n",
       "    }\n",
       "\n",
       "    .dataframe tbody tr th {\n",
       "        vertical-align: top;\n",
       "    }\n",
       "\n",
       "    .dataframe thead th {\n",
       "        text-align: right;\n",
       "    }\n",
       "</style>\n",
       "<table border=\"1\" class=\"dataframe\">\n",
       "  <thead>\n",
       "    <tr style=\"text-align: right;\">\n",
       "      <th></th>\n",
       "      <th>AGE</th>\n",
       "      <th>SEXE</th>\n",
       "      <th>TDT</th>\n",
       "      <th>PAR</th>\n",
       "      <th>CHOLESTEROL</th>\n",
       "      <th>GAJ</th>\n",
       "      <th>ECG</th>\n",
       "      <th>FCMAX</th>\n",
       "      <th>ANGINE</th>\n",
       "      <th>DEPRESSION</th>\n",
       "      <th>PENTE</th>\n",
       "      <th>CŒUR</th>\n",
       "    </tr>\n",
       "  </thead>\n",
       "  <tbody>\n",
       "    <tr>\n",
       "      <th>0</th>\n",
       "      <td>40</td>\n",
       "      <td>homme</td>\n",
       "      <td>AA</td>\n",
       "      <td>140</td>\n",
       "      <td>289</td>\n",
       "      <td>0</td>\n",
       "      <td>Normal</td>\n",
       "      <td>172</td>\n",
       "      <td>Non</td>\n",
       "      <td>0.0</td>\n",
       "      <td>Ascendant</td>\n",
       "      <td>0</td>\n",
       "    </tr>\n",
       "    <tr>\n",
       "      <th>1</th>\n",
       "      <td>49</td>\n",
       "      <td>femme</td>\n",
       "      <td>DNA</td>\n",
       "      <td>160</td>\n",
       "      <td>180</td>\n",
       "      <td>0</td>\n",
       "      <td>Normal</td>\n",
       "      <td>156</td>\n",
       "      <td>Non</td>\n",
       "      <td>1.0</td>\n",
       "      <td>Plat</td>\n",
       "      <td>1</td>\n",
       "    </tr>\n",
       "    <tr>\n",
       "      <th>2</th>\n",
       "      <td>37</td>\n",
       "      <td>homme</td>\n",
       "      <td>AA</td>\n",
       "      <td>130</td>\n",
       "      <td>283</td>\n",
       "      <td>0</td>\n",
       "      <td>ST</td>\n",
       "      <td>98</td>\n",
       "      <td>Non</td>\n",
       "      <td>0.0</td>\n",
       "      <td>Ascendant</td>\n",
       "      <td>0</td>\n",
       "    </tr>\n",
       "    <tr>\n",
       "      <th>3</th>\n",
       "      <td>48</td>\n",
       "      <td>femme</td>\n",
       "      <td>ASY</td>\n",
       "      <td>138</td>\n",
       "      <td>214</td>\n",
       "      <td>0</td>\n",
       "      <td>Normal</td>\n",
       "      <td>108</td>\n",
       "      <td>Oui</td>\n",
       "      <td>1.5</td>\n",
       "      <td>Plat</td>\n",
       "      <td>1</td>\n",
       "    </tr>\n",
       "    <tr>\n",
       "      <th>4</th>\n",
       "      <td>54</td>\n",
       "      <td>homme</td>\n",
       "      <td>DNA</td>\n",
       "      <td>150</td>\n",
       "      <td>195</td>\n",
       "      <td>0</td>\n",
       "      <td>Normal</td>\n",
       "      <td>122</td>\n",
       "      <td>Non</td>\n",
       "      <td>0.0</td>\n",
       "      <td>Ascendant</td>\n",
       "      <td>0</td>\n",
       "    </tr>\n",
       "  </tbody>\n",
       "</table>\n",
       "</div>"
      ],
      "text/plain": [
       "   AGE   SEXE  TDT  PAR  CHOLESTEROL  GAJ     ECG  FCMAX ANGINE  DEPRESSION   \\\n",
       "0   40  homme   AA  140          289    0  Normal    172    Non          0.0   \n",
       "1   49  femme  DNA  160          180    0  Normal    156    Non          1.0   \n",
       "2   37  homme   AA  130          283    0      ST     98    Non          0.0   \n",
       "3   48  femme  ASY  138          214    0  Normal    108    Oui          1.5   \n",
       "4   54  homme  DNA  150          195    0  Normal    122    Non          0.0   \n",
       "\n",
       "       PENTE  CŒUR  \n",
       "0  Ascendant     0  \n",
       "1       Plat     1  \n",
       "2  Ascendant     0  \n",
       "3       Plat     1  \n",
       "4  Ascendant     0  "
      ]
     },
     "execution_count": 4,
     "metadata": {},
     "output_type": "execute_result"
    }
   ],
   "source": [
    "df.head()"
   ]
  },
  {
   "cell_type": "code",
   "execution_count": 5,
   "metadata": {},
   "outputs": [
    {
     "data": {
      "text/plain": [
       "(918, 12)"
      ]
     },
     "execution_count": 5,
     "metadata": {},
     "output_type": "execute_result"
    }
   ],
   "source": [
    "df.shape"
   ]
  },
  {
   "cell_type": "markdown",
   "metadata": {},
   "source": [
    "# PREPROCESSING "
   ]
  },
  {
   "cell_type": "markdown",
   "metadata": {},
   "source": [
    "Il n'y a pas de données manquantes dans ce jeu de données.\n",
    "Nous allons donc nous intéresser à l'encodage des variables qualitatives, à la normalisation des variables quantitatives\n",
    "et aux données abérrantes et cela par étapes avant d'aller à la modelisation pour chacun de ces cas jusqu'à trouver le bon modele "
   ]
  },
  {
   "cell_type": "markdown",
   "metadata": {},
   "source": [
    "- Encodage des variables qualitatives"
   ]
  },
  {
   "cell_type": "code",
   "execution_count": 6,
   "metadata": {},
   "outputs": [],
   "source": [
    "def features_ordinal(dataframe,variable):\n",
    "    '''Fonction permettant d'encoder les variables qualitatives ordinales\n",
    "    :param dataframe:fournir le dataframe\n",
    "    :param variable: fournir la liste de variable\n",
    "    '''\n",
    "    modalite={\n",
    "        'femme':0,\n",
    "        'homme':1,\n",
    "        'AT':0,\n",
    "        'AA':1,\n",
    "        'DNA':2,\n",
    "        'ASY':3,\n",
    "        'Normal':0,\n",
    "        'ST':1,\n",
    "        'LVH':2,\n",
    "        'Oui':1,\n",
    "        'Non':0,\n",
    "        'Ascendant':0,\n",
    "        'Plat':1,\n",
    "        'Descendant':2\n",
    "        \n",
    "    }\n",
    "    for col in variable:\n",
    "        if dataframe[col].dtype==object:\n",
    "            dataframe.loc[:,col]=dataframe[col].map(modalite)"
   ]
  },
  {
   "cell_type": "code",
   "execution_count": 7,
   "metadata": {},
   "outputs": [
    {
     "data": {
      "text/html": [
       "<div>\n",
       "<style scoped>\n",
       "    .dataframe tbody tr th:only-of-type {\n",
       "        vertical-align: middle;\n",
       "    }\n",
       "\n",
       "    .dataframe tbody tr th {\n",
       "        vertical-align: top;\n",
       "    }\n",
       "\n",
       "    .dataframe thead th {\n",
       "        text-align: right;\n",
       "    }\n",
       "</style>\n",
       "<table border=\"1\" class=\"dataframe\">\n",
       "  <thead>\n",
       "    <tr style=\"text-align: right;\">\n",
       "      <th></th>\n",
       "      <th>AGE</th>\n",
       "      <th>SEXE</th>\n",
       "      <th>TDT</th>\n",
       "      <th>PAR</th>\n",
       "      <th>CHOLESTEROL</th>\n",
       "      <th>GAJ</th>\n",
       "      <th>ECG</th>\n",
       "      <th>FCMAX</th>\n",
       "      <th>ANGINE</th>\n",
       "      <th>DEPRESSION</th>\n",
       "      <th>PENTE</th>\n",
       "      <th>CŒUR</th>\n",
       "    </tr>\n",
       "  </thead>\n",
       "  <tbody>\n",
       "    <tr>\n",
       "      <th>0</th>\n",
       "      <td>40</td>\n",
       "      <td>1</td>\n",
       "      <td>1</td>\n",
       "      <td>140</td>\n",
       "      <td>289</td>\n",
       "      <td>0</td>\n",
       "      <td>0</td>\n",
       "      <td>172</td>\n",
       "      <td>0</td>\n",
       "      <td>0.0</td>\n",
       "      <td>0</td>\n",
       "      <td>0</td>\n",
       "    </tr>\n",
       "    <tr>\n",
       "      <th>1</th>\n",
       "      <td>49</td>\n",
       "      <td>0</td>\n",
       "      <td>2</td>\n",
       "      <td>160</td>\n",
       "      <td>180</td>\n",
       "      <td>0</td>\n",
       "      <td>0</td>\n",
       "      <td>156</td>\n",
       "      <td>0</td>\n",
       "      <td>1.0</td>\n",
       "      <td>1</td>\n",
       "      <td>1</td>\n",
       "    </tr>\n",
       "    <tr>\n",
       "      <th>2</th>\n",
       "      <td>37</td>\n",
       "      <td>1</td>\n",
       "      <td>1</td>\n",
       "      <td>130</td>\n",
       "      <td>283</td>\n",
       "      <td>0</td>\n",
       "      <td>1</td>\n",
       "      <td>98</td>\n",
       "      <td>0</td>\n",
       "      <td>0.0</td>\n",
       "      <td>0</td>\n",
       "      <td>0</td>\n",
       "    </tr>\n",
       "    <tr>\n",
       "      <th>3</th>\n",
       "      <td>48</td>\n",
       "      <td>0</td>\n",
       "      <td>3</td>\n",
       "      <td>138</td>\n",
       "      <td>214</td>\n",
       "      <td>0</td>\n",
       "      <td>0</td>\n",
       "      <td>108</td>\n",
       "      <td>1</td>\n",
       "      <td>1.5</td>\n",
       "      <td>1</td>\n",
       "      <td>1</td>\n",
       "    </tr>\n",
       "    <tr>\n",
       "      <th>4</th>\n",
       "      <td>54</td>\n",
       "      <td>1</td>\n",
       "      <td>2</td>\n",
       "      <td>150</td>\n",
       "      <td>195</td>\n",
       "      <td>0</td>\n",
       "      <td>0</td>\n",
       "      <td>122</td>\n",
       "      <td>0</td>\n",
       "      <td>0.0</td>\n",
       "      <td>0</td>\n",
       "      <td>0</td>\n",
       "    </tr>\n",
       "  </tbody>\n",
       "</table>\n",
       "</div>"
      ],
      "text/plain": [
       "   AGE  SEXE  TDT  PAR  CHOLESTEROL  GAJ  ECG  FCMAX  ANGINE  DEPRESSION   \\\n",
       "0   40     1    1  140          289    0    0    172       0          0.0   \n",
       "1   49     0    2  160          180    0    0    156       0          1.0   \n",
       "2   37     1    1  130          283    0    1     98       0          0.0   \n",
       "3   48     0    3  138          214    0    0    108       1          1.5   \n",
       "4   54     1    2  150          195    0    0    122       0          0.0   \n",
       "\n",
       "   PENTE  CŒUR  \n",
       "0      0     0  \n",
       "1      1     1  \n",
       "2      0     0  \n",
       "3      1     1  \n",
       "4      0     0  "
      ]
     },
     "execution_count": 7,
     "metadata": {},
     "output_type": "execute_result"
    }
   ],
   "source": [
    "variable= df.select_dtypes(object).columns\n",
    "features_ordinal(df,variable)\n",
    "df.head()"
   ]
  },
  {
   "cell_type": "code",
   "execution_count": null,
   "metadata": {},
   "outputs": [],
   "source": []
  },
  {
   "cell_type": "markdown",
   "metadata": {},
   "source": [
    "- Division du jeu de donnée en jeu d'apprentissage et de test"
   ]
  },
  {
   "cell_type": "code",
   "execution_count": 8,
   "metadata": {},
   "outputs": [],
   "source": [
    "X=df.drop('CŒUR',axis=1)\n",
    "y=df['CŒUR']\n",
    "X_train,X_test,y_train,y_test = train_test_split(X,y,test_size=0.2,random_state=42,stratify=y)"
   ]
  },
  {
   "cell_type": "code",
   "execution_count": 9,
   "metadata": {},
   "outputs": [
    {
     "data": {
      "text/plain": [
       "1    406\n",
       "0    328\n",
       "Name: CŒUR, dtype: int64"
      ]
     },
     "execution_count": 9,
     "metadata": {},
     "output_type": "execute_result"
    }
   ],
   "source": [
    "y_train.value_counts()"
   ]
  },
  {
   "cell_type": "markdown",
   "metadata": {},
   "source": [
    "On  a conservé les memes proportions pour la variable cible en test,entrainenment et validation"
   ]
  },
  {
   "cell_type": "markdown",
   "metadata": {},
   "source": [
    "- Modelisation 1"
   ]
  },
  {
   "cell_type": "code",
   "execution_count": 10,
   "metadata": {},
   "outputs": [
    {
     "data": {
      "text/plain": [
       "0.907608695652174"
      ]
     },
     "execution_count": 10,
     "metadata": {},
     "output_type": "execute_result"
    }
   ],
   "source": [
    "# selection des variables \n",
    "\n",
    "rf = RandomForestClassifier(random_state=0)\n",
    "\n",
    "rf.fit(X_train,y_train)\n",
    "\n",
    "accuracy_score(y_test,rf.predict(X_test))"
   ]
  },
  {
   "cell_type": "code",
   "execution_count": 11,
   "metadata": {},
   "outputs": [
    {
     "name": "stdout",
     "output_type": "stream",
     "text": [
      "[0.07449733 0.02857452 0.12995175 0.06599451 0.10201219 0.02441361\n",
      " 0.02408754 0.11410641 0.07415575 0.10282105 0.25938533]\n"
     ]
    }
   ],
   "source": [
    "print(rf.feature_importances_)"
   ]
  },
  {
   "cell_type": "code",
   "execution_count": 12,
   "metadata": {},
   "outputs": [
    {
     "data": {
      "text/plain": [
       "PENTE          0.259385\n",
       "TDT            0.129952\n",
       "FCMAX          0.114106\n",
       "DEPRESSION     0.102821\n",
       "CHOLESTEROL    0.102012\n",
       "AGE            0.074497\n",
       "ANGINE         0.074156\n",
       "PAR            0.065995\n",
       "SEXE           0.028575\n",
       "GAJ            0.024414\n",
       "ECG            0.024088\n",
       "dtype: float64"
      ]
     },
     "execution_count": 12,
     "metadata": {},
     "output_type": "execute_result"
    }
   ],
   "source": [
    "vars_imp=pd.Series(rf.feature_importances_ , index=X_train.columns).sort_values(ascending=False)\n",
    "vars_imp"
   ]
  },
  {
   "cell_type": "code",
   "execution_count": 13,
   "metadata": {},
   "outputs": [
    {
     "data": {
      "image/png": "[encoded data removed]",
      "text/plain": [
       "<Figure size 432x288 with 1 Axes>"
      ]
     },
     "metadata": {
      "needs_background": "light"
     },
     "output_type": "display_data"
    }
   ],
   "source": [
    "sb.barplot(x=vars_imp,y=vars_imp.index)\n",
    "plt.show()"
   ]
  },
  {
   "cell_type": "code",
   "execution_count": 14,
   "metadata": {},
   "outputs": [],
   "source": [
    "vars_non_imp=['GAJ','SEXE','ECG']\n",
    "\n",
    "X_train = X_train.drop(vars_non_imp, axis=1)\n",
    "\n",
    "X_test=X_test.drop(vars_non_imp, axis=1)"
   ]
  },
  {
   "cell_type": "code",
   "execution_count": 15,
   "metadata": {},
   "outputs": [],
   "source": [
    "#Regression logistique\n",
    "\n",
    "# lr= LogisticRegression(random_state=0)\n",
    "\n",
    "# lr_hyp_param={'C': [0.001,0.01,0.1, 1.0, 10, 100] }\n",
    "\n",
    "# lr_cv=GridSearchCV(lr, lr_hyp_param, cv = 5)\n",
    "\n",
    "# lr_cv.fit(X_train,y_train)\n",
    "\n",
    "# print(lr_cv.best_score_)\n",
    "# print(lr_cv.best_estimator_)"
   ]
  },
  {
   "cell_type": "code",
   "execution_count": 16,
   "metadata": {},
   "outputs": [
    {
     "name": "stdout",
     "output_type": "stream",
     "text": [
      "0.856937843630603\n",
      "RandomForestClassifier(max_depth=5, min_samples_leaf=3, min_samples_split=7,\n",
      "                       random_state=42)\n"
     ]
    }
   ],
   "source": [
    "# Foret aleatoire\n",
    "\n",
    "RF=RandomForestClassifier(random_state=42)\n",
    "\n",
    "params_RF = {\"max_depth\": [5,10,20,50,100,200],\n",
    "              \"max_features\":['auto', 'sqrt', 'log2'],\n",
    "              \"min_samples_split\": [2,3,5,7],\n",
    "           \"min_samples_leaf\": [1, 3,5,6]}\n",
    "\n",
    "RF_cv= GridSearchCV(RF, params_RF, cv = 5)\n",
    "\n",
    "RF_cv.fit(X_train,y_train)\n",
    "\n",
    "print(RF_cv.best_score_)\n",
    "\n",
    "print(RF_cv.best_estimator_)"
   ]
  },
  {
   "cell_type": "code",
   "execution_count": 17,
   "metadata": {},
   "outputs": [
    {
     "name": "stdout",
     "output_type": "stream",
     "text": [
      "0.8269313204733948\n",
      "SVC(C=10, kernel='linear', random_state=42)\n"
     ]
    }
   ],
   "source": [
    "# SVM\n",
    "##from sklearn.svm import SVC\n",
    " \n",
    "svc=SVC(random_state=42)\n",
    "\n",
    "svc_params={'C':[0.1,1,10], 'kernel':['linear','rbf','poly']}\n",
    "\n",
    "svc_cv=GridSearchCV(svc, svc_params , cv = 5)\n",
    "\n",
    "svc_cv.fit(X_train,y_train)\n",
    "\n",
    "print(svc_cv.best_score_)\n",
    "\n",
    "print(svc_cv.best_estimator_)"
   ]
  },
  {
   "cell_type": "code",
   "execution_count": 18,
   "metadata": {},
   "outputs": [
    {
     "name": "stdout",
     "output_type": "stream",
     "text": [
      "0.8405833566303234\n",
      "BaggingClassifier(n_estimators=5, random_state=42)\n"
     ]
    }
   ],
   "source": [
    "#bagging classifier\n",
    "\n",
    "##from sklearn.ensemble import BaggingClassifier\n",
    "\n",
    "bg=BaggingClassifier(random_state=42)\n",
    "\n",
    "params_bg = {'n_estimators': [5,10,20,50,100,200]}\n",
    "\n",
    "bg_cv= GridSearchCV(bg, params_bg, cv = 5)\n",
    "\n",
    "bg_cv.fit(X_train,y_train)\n",
    "\n",
    "print(bg_cv.best_score_)\n",
    "\n",
    "print(bg_cv.best_estimator_)"
   ]
  },
  {
   "cell_type": "code",
   "execution_count": 19,
   "metadata": {},
   "outputs": [],
   "source": [
    "#Evaluation de la performance\n",
    "\n",
    "def evaluation_model(model,features,labels):\n",
    "    pred  = model.predict(features)\n",
    "    score = accuracy_score(y_test,pred)\n",
    "    print('Score globale du modèle:', round(score,3))"
   ]
  },
  {
   "cell_type": "code",
   "execution_count": 20,
   "metadata": {},
   "outputs": [
    {
     "name": "stdout",
     "output_type": "stream",
     "text": [
      "model BaggingClassifier(n_estimators=5, random_state=42)\n",
      "Score globale du modèle: 0.793\n",
      "==========================================================================================\n",
      "model SVC(C=10, kernel='linear', random_state=42)\n",
      "Score globale du modèle: 0.826\n",
      "==========================================================================================\n",
      "model RandomForestClassifier(max_depth=5, min_samples_leaf=3, min_samples_split=7,\n",
      "                       random_state=42)\n",
      "Score globale du modèle: 0.875\n",
      "==========================================================================================\n"
     ]
    }
   ],
   "source": [
    "models=[bg_cv.best_estimator_,svc_cv.best_estimator_ ,RF_cv.best_estimator_]\n",
    "for model in models:\n",
    "    print('model ' + str(model))\n",
    "    evaluation_model(model, X_test, y_test)\n",
    "    print('='*90)"
   ]
  },
  {
   "cell_type": "code",
   "execution_count": 21,
   "metadata": {},
   "outputs": [],
   "source": [
    "def courbe_appentissage(model):\n",
    "    \n",
    "    model.fit(X_train, y_train)\n",
    "    predicted = model.predict(X_test)\n",
    "      \n",
    "    acc=accuracy_score(y_test, predicted)\n",
    "    print('acc: ', acc)\n",
    "    \n",
    "    N, train_score, val_score = learning_curve(model, X_train, y_train,\n",
    "                                               cv=5,\n",
    "                                               train_sizes=np.linspace(0.1, 1, 10))\n",
    "    \n",
    "    plt.figure(figsize=(12, 5))\n",
    "    plt.plot(N, train_score.mean(axis=1), label='train')\n",
    "    plt.plot(N, val_score.mean(axis=1), label='validation')\n",
    "    plt.title(model, fontsize=24)\n",
    "    plt.legend()\n",
    "    print('='*90)"
   ]
  },
  {
   "cell_type": "code",
   "execution_count": 22,
   "metadata": {},
   "outputs": [
    {
     "name": "stdout",
     "output_type": "stream",
     "text": [
      "acc:  0.7934782608695652\n",
      "==========================================================================================\n",
      "acc:  0.8260869565217391\n",
      "==========================================================================================\n",
      "acc:  0.875\n",
      "==========================================================================================\n"
     ]
    },
    {
     "data": {
      "image/png": "[encoded data removed]",
      "text/plain": [
       "<Figure size 864x360 with 1 Axes>"
      ]
     },
     "metadata": {
      "needs_background": "light"
     },
     "output_type": "display_data"
    },
    {
     "data": {
      "image/png": "[encoded data removed]",
      "text/plain": [
       "<Figure size 864x360 with 1 Axes>"
      ]
     },
     "metadata": {
      "needs_background": "light"
     },
     "output_type": "display_data"
    },
    {
     "data": {
      "image/png": "[encoded data removed]",
      "text/plain": [
       "<Figure size 864x360 with 1 Axes>"
      ]
     },
     "metadata": {
      "needs_background": "light"
     },
     "output_type": "display_data"
    }
   ],
   "source": [
    "for model in models:\n",
    "    courbe_appentissage(model)"
   ]
  },
  {
   "cell_type": "markdown",
   "metadata": {},
   "source": [
    "- Modelisation 2"
   ]
  },
  {
   "cell_type": "code",
   "execution_count": 23,
   "metadata": {},
   "outputs": [],
   "source": [
    "# Normalisons les données quantitatives"
   ]
  },
  {
   "cell_type": "code",
   "execution_count": null,
   "metadata": {},
   "outputs": [],
   "source": []
  },
  {
   "cell_type": "code",
   "execution_count": 24,
   "metadata": {},
   "outputs": [],
   "source": [
    "def decoupe(X):\n",
    "    X_quant_cont = X.drop(columns=['TDT', 'ANGINE', 'PENTE'])\n",
    "    X_quant_quali = X[['TDT', 'ANGINE', 'PENTE']]\n",
    "    \n",
    "    return X_quant_cont, X_quant_quali"
   ]
  },
  {
   "cell_type": "code",
   "execution_count": 25,
   "metadata": {},
   "outputs": [],
   "source": [
    "X_train_cont, X_train_quali = decoupe(X_train)"
   ]
  },
  {
   "cell_type": "code",
   "execution_count": 26,
   "metadata": {},
   "outputs": [
    {
     "data": {
      "text/html": [
       "<div>\n",
       "<style scoped>\n",
       "    .dataframe tbody tr th:only-of-type {\n",
       "        vertical-align: middle;\n",
       "    }\n",
       "\n",
       "    .dataframe tbody tr th {\n",
       "        vertical-align: top;\n",
       "    }\n",
       "\n",
       "    .dataframe thead th {\n",
       "        text-align: right;\n",
       "    }\n",
       "</style>\n",
       "<table border=\"1\" class=\"dataframe\">\n",
       "  <thead>\n",
       "    <tr style=\"text-align: right;\">\n",
       "      <th></th>\n",
       "      <th>AGE</th>\n",
       "      <th>PAR</th>\n",
       "      <th>CHOLESTEROL</th>\n",
       "      <th>FCMAX</th>\n",
       "      <th>DEPRESSION</th>\n",
       "    </tr>\n",
       "  </thead>\n",
       "  <tbody>\n",
       "    <tr>\n",
       "      <th>485</th>\n",
       "      <td>63</td>\n",
       "      <td>139</td>\n",
       "      <td>217</td>\n",
       "      <td>128</td>\n",
       "      <td>1.2</td>\n",
       "    </tr>\n",
       "    <tr>\n",
       "      <th>486</th>\n",
       "      <td>55</td>\n",
       "      <td>110</td>\n",
       "      <td>214</td>\n",
       "      <td>180</td>\n",
       "      <td>0.4</td>\n",
       "    </tr>\n",
       "    <tr>\n",
       "      <th>117</th>\n",
       "      <td>59</td>\n",
       "      <td>130</td>\n",
       "      <td>338</td>\n",
       "      <td>130</td>\n",
       "      <td>1.5</td>\n",
       "    </tr>\n",
       "    <tr>\n",
       "      <th>361</th>\n",
       "      <td>47</td>\n",
       "      <td>160</td>\n",
       "      <td>0</td>\n",
       "      <td>124</td>\n",
       "      <td>0.0</td>\n",
       "    </tr>\n",
       "    <tr>\n",
       "      <th>296</th>\n",
       "      <td>50</td>\n",
       "      <td>145</td>\n",
       "      <td>0</td>\n",
       "      <td>139</td>\n",
       "      <td>0.7</td>\n",
       "    </tr>\n",
       "  </tbody>\n",
       "</table>\n",
       "</div>"
      ],
      "text/plain": [
       "     AGE  PAR  CHOLESTEROL  FCMAX  DEPRESSION \n",
       "485   63  139          217    128          1.2\n",
       "486   55  110          214    180          0.4\n",
       "117   59  130          338    130          1.5\n",
       "361   47  160            0    124          0.0\n",
       "296   50  145            0    139          0.7"
      ]
     },
     "execution_count": 26,
     "metadata": {},
     "output_type": "execute_result"
    }
   ],
   "source": [
    "X_train_cont.head()"
   ]
  },
  {
   "cell_type": "code",
   "execution_count": 27,
   "metadata": {},
   "outputs": [
    {
     "data": {
      "text/html": [
       "<div>\n",
       "<style scoped>\n",
       "    .dataframe tbody tr th:only-of-type {\n",
       "        vertical-align: middle;\n",
       "    }\n",
       "\n",
       "    .dataframe tbody tr th {\n",
       "        vertical-align: top;\n",
       "    }\n",
       "\n",
       "    .dataframe thead th {\n",
       "        text-align: right;\n",
       "    }\n",
       "</style>\n",
       "<table border=\"1\" class=\"dataframe\">\n",
       "  <thead>\n",
       "    <tr style=\"text-align: right;\">\n",
       "      <th></th>\n",
       "      <th>TDT</th>\n",
       "      <th>ANGINE</th>\n",
       "      <th>PENTE</th>\n",
       "    </tr>\n",
       "  </thead>\n",
       "  <tbody>\n",
       "    <tr>\n",
       "      <th>485</th>\n",
       "      <td>1</td>\n",
       "      <td>1</td>\n",
       "      <td>1</td>\n",
       "    </tr>\n",
       "    <tr>\n",
       "      <th>486</th>\n",
       "      <td>1</td>\n",
       "      <td>0</td>\n",
       "      <td>0</td>\n",
       "    </tr>\n",
       "    <tr>\n",
       "      <th>117</th>\n",
       "      <td>3</td>\n",
       "      <td>1</td>\n",
       "      <td>1</td>\n",
       "    </tr>\n",
       "    <tr>\n",
       "      <th>361</th>\n",
       "      <td>3</td>\n",
       "      <td>1</td>\n",
       "      <td>1</td>\n",
       "    </tr>\n",
       "    <tr>\n",
       "      <th>296</th>\n",
       "      <td>3</td>\n",
       "      <td>1</td>\n",
       "      <td>1</td>\n",
       "    </tr>\n",
       "  </tbody>\n",
       "</table>\n",
       "</div>"
      ],
      "text/plain": [
       "     TDT  ANGINE  PENTE\n",
       "485    1       1      1\n",
       "486    1       0      0\n",
       "117    3       1      1\n",
       "361    3       1      1\n",
       "296    3       1      1"
      ]
     },
     "execution_count": 27,
     "metadata": {},
     "output_type": "execute_result"
    }
   ],
   "source": [
    "X_train_quali.head()"
   ]
  },
  {
   "cell_type": "code",
   "execution_count": 28,
   "metadata": {},
   "outputs": [],
   "source": [
    "X_test_cont, X_test_quali = decoupe(X_test)"
   ]
  },
  {
   "cell_type": "code",
   "execution_count": 29,
   "metadata": {},
   "outputs": [
    {
     "data": {
      "text/html": [
       "<div>\n",
       "<style scoped>\n",
       "    .dataframe tbody tr th:only-of-type {\n",
       "        vertical-align: middle;\n",
       "    }\n",
       "\n",
       "    .dataframe tbody tr th {\n",
       "        vertical-align: top;\n",
       "    }\n",
       "\n",
       "    .dataframe thead th {\n",
       "        text-align: right;\n",
       "    }\n",
       "</style>\n",
       "<table border=\"1\" class=\"dataframe\">\n",
       "  <thead>\n",
       "    <tr style=\"text-align: right;\">\n",
       "      <th></th>\n",
       "      <th>AGE</th>\n",
       "      <th>PAR</th>\n",
       "      <th>CHOLESTEROL</th>\n",
       "      <th>FCMAX</th>\n",
       "      <th>DEPRESSION</th>\n",
       "    </tr>\n",
       "  </thead>\n",
       "  <tbody>\n",
       "    <tr>\n",
       "      <th>356</th>\n",
       "      <td>46</td>\n",
       "      <td>115</td>\n",
       "      <td>0</td>\n",
       "      <td>113</td>\n",
       "      <td>1.5</td>\n",
       "    </tr>\n",
       "    <tr>\n",
       "      <th>763</th>\n",
       "      <td>58</td>\n",
       "      <td>132</td>\n",
       "      <td>224</td>\n",
       "      <td>173</td>\n",
       "      <td>3.2</td>\n",
       "    </tr>\n",
       "    <tr>\n",
       "      <th>817</th>\n",
       "      <td>60</td>\n",
       "      <td>125</td>\n",
       "      <td>258</td>\n",
       "      <td>141</td>\n",
       "      <td>2.8</td>\n",
       "    </tr>\n",
       "    <tr>\n",
       "      <th>735</th>\n",
       "      <td>49</td>\n",
       "      <td>120</td>\n",
       "      <td>188</td>\n",
       "      <td>139</td>\n",
       "      <td>2.0</td>\n",
       "    </tr>\n",
       "    <tr>\n",
       "      <th>892</th>\n",
       "      <td>39</td>\n",
       "      <td>138</td>\n",
       "      <td>220</td>\n",
       "      <td>152</td>\n",
       "      <td>0.0</td>\n",
       "    </tr>\n",
       "  </tbody>\n",
       "</table>\n",
       "</div>"
      ],
      "text/plain": [
       "     AGE  PAR  CHOLESTEROL  FCMAX  DEPRESSION \n",
       "356   46  115            0    113          1.5\n",
       "763   58  132          224    173          3.2\n",
       "817   60  125          258    141          2.8\n",
       "735   49  120          188    139          2.0\n",
       "892   39  138          220    152          0.0"
      ]
     },
     "execution_count": 29,
     "metadata": {},
     "output_type": "execute_result"
    }
   ],
   "source": [
    "X_test_cont.head()"
   ]
  },
  {
   "cell_type": "code",
   "execution_count": 30,
   "metadata": {},
   "outputs": [
    {
     "data": {
      "text/html": [
       "<div>\n",
       "<style scoped>\n",
       "    .dataframe tbody tr th:only-of-type {\n",
       "        vertical-align: middle;\n",
       "    }\n",
       "\n",
       "    .dataframe tbody tr th {\n",
       "        vertical-align: top;\n",
       "    }\n",
       "\n",
       "    .dataframe thead th {\n",
       "        text-align: right;\n",
       "    }\n",
       "</style>\n",
       "<table border=\"1\" class=\"dataframe\">\n",
       "  <thead>\n",
       "    <tr style=\"text-align: right;\">\n",
       "      <th></th>\n",
       "      <th>TDT</th>\n",
       "      <th>ANGINE</th>\n",
       "      <th>PENTE</th>\n",
       "    </tr>\n",
       "  </thead>\n",
       "  <tbody>\n",
       "    <tr>\n",
       "      <th>356</th>\n",
       "      <td>3</td>\n",
       "      <td>1</td>\n",
       "      <td>1</td>\n",
       "    </tr>\n",
       "    <tr>\n",
       "      <th>763</th>\n",
       "      <td>2</td>\n",
       "      <td>0</td>\n",
       "      <td>0</td>\n",
       "    </tr>\n",
       "    <tr>\n",
       "      <th>817</th>\n",
       "      <td>3</td>\n",
       "      <td>1</td>\n",
       "      <td>1</td>\n",
       "    </tr>\n",
       "    <tr>\n",
       "      <th>735</th>\n",
       "      <td>2</td>\n",
       "      <td>0</td>\n",
       "      <td>1</td>\n",
       "    </tr>\n",
       "    <tr>\n",
       "      <th>892</th>\n",
       "      <td>2</td>\n",
       "      <td>0</td>\n",
       "      <td>1</td>\n",
       "    </tr>\n",
       "  </tbody>\n",
       "</table>\n",
       "</div>"
      ],
      "text/plain": [
       "     TDT  ANGINE  PENTE\n",
       "356    3       1      1\n",
       "763    2       0      0\n",
       "817    3       1      1\n",
       "735    2       0      1\n",
       "892    2       0      1"
      ]
     },
     "execution_count": 30,
     "metadata": {},
     "output_type": "execute_result"
    }
   ],
   "source": [
    "X_test_quali.head()"
   ]
  },
  {
   "cell_type": "code",
   "execution_count": 31,
   "metadata": {},
   "outputs": [],
   "source": [
    "scale = StandardScaler()"
   ]
  },
  {
   "cell_type": "code",
   "execution_count": 32,
   "metadata": {},
   "outputs": [],
   "source": [
    "X_train_cont_norm = scale.fit_transform(X_train_cont)\n",
    "X_test_cont_norm  = scale.transform(X_test_cont)"
   ]
  },
  {
   "cell_type": "code",
   "execution_count": 33,
   "metadata": {},
   "outputs": [],
   "source": [
    "X_train_cont_norm=pd.DataFrame(X_train_cont_norm,columns=X_train_cont.columns,index=X_train_cont.index)"
   ]
  },
  {
   "cell_type": "code",
   "execution_count": 34,
   "metadata": {},
   "outputs": [
    {
     "name": "stdout",
     "output_type": "stream",
     "text": [
      "(734, 5)\n",
      "(734, 3)\n"
     ]
    }
   ],
   "source": [
    "print(X_train_cont_norm.shape)\n",
    "print(X_train_quali.shape)"
   ]
  },
  {
   "cell_type": "code",
   "execution_count": 35,
   "metadata": {},
   "outputs": [],
   "source": [
    "df_train = pd.concat([X_train_cont_norm,X_train_quali],axis=1)\n",
    "#X_train_quali"
   ]
  },
  {
   "cell_type": "code",
   "execution_count": 36,
   "metadata": {},
   "outputs": [],
   "source": [
    "X_test_cont_norm=pd.DataFrame(X_test_cont_norm,columns=X_test_cont.columns,index=X_test_cont.index)"
   ]
  },
  {
   "cell_type": "code",
   "execution_count": 37,
   "metadata": {},
   "outputs": [
    {
     "data": {
      "text/html": [
       "<div>\n",
       "<style scoped>\n",
       "    .dataframe tbody tr th:only-of-type {\n",
       "        vertical-align: middle;\n",
       "    }\n",
       "\n",
       "    .dataframe tbody tr th {\n",
       "        vertical-align: top;\n",
       "    }\n",
       "\n",
       "    .dataframe thead th {\n",
       "        text-align: right;\n",
       "    }\n",
       "</style>\n",
       "<table border=\"1\" class=\"dataframe\">\n",
       "  <thead>\n",
       "    <tr style=\"text-align: right;\">\n",
       "      <th></th>\n",
       "      <th>AGE</th>\n",
       "      <th>PAR</th>\n",
       "      <th>CHOLESTEROL</th>\n",
       "      <th>FCMAX</th>\n",
       "      <th>DEPRESSION</th>\n",
       "      <th>TDT</th>\n",
       "      <th>ANGINE</th>\n",
       "      <th>PENTE</th>\n",
       "    </tr>\n",
       "  </thead>\n",
       "  <tbody>\n",
       "    <tr>\n",
       "      <th>356</th>\n",
       "      <td>-0.831954</td>\n",
       "      <td>-0.989299</td>\n",
       "      <td>-1.876035</td>\n",
       "      <td>-0.905584</td>\n",
       "      <td>0.601071</td>\n",
       "      <td>3</td>\n",
       "      <td>1</td>\n",
       "      <td>1</td>\n",
       "    </tr>\n",
       "    <tr>\n",
       "      <th>763</th>\n",
       "      <td>0.440022</td>\n",
       "      <td>-0.048409</td>\n",
       "      <td>0.191755</td>\n",
       "      <td>1.418673</td>\n",
       "      <td>2.210549</td>\n",
       "      <td>2</td>\n",
       "      <td>0</td>\n",
       "      <td>0</td>\n",
       "    </tr>\n",
       "    <tr>\n",
       "      <th>817</th>\n",
       "      <td>0.652018</td>\n",
       "      <td>-0.435834</td>\n",
       "      <td>0.505616</td>\n",
       "      <td>0.179069</td>\n",
       "      <td>1.831848</td>\n",
       "      <td>3</td>\n",
       "      <td>1</td>\n",
       "      <td>1</td>\n",
       "    </tr>\n",
       "    <tr>\n",
       "      <th>735</th>\n",
       "      <td>-0.513960</td>\n",
       "      <td>-0.712567</td>\n",
       "      <td>-0.140568</td>\n",
       "      <td>0.101594</td>\n",
       "      <td>1.074447</td>\n",
       "      <td>2</td>\n",
       "      <td>0</td>\n",
       "      <td>1</td>\n",
       "    </tr>\n",
       "    <tr>\n",
       "      <th>892</th>\n",
       "      <td>-1.573940</td>\n",
       "      <td>0.283669</td>\n",
       "      <td>0.154830</td>\n",
       "      <td>0.605183</td>\n",
       "      <td>-0.819056</td>\n",
       "      <td>2</td>\n",
       "      <td>0</td>\n",
       "      <td>1</td>\n",
       "    </tr>\n",
       "    <tr>\n",
       "      <th>...</th>\n",
       "      <td>...</td>\n",
       "      <td>...</td>\n",
       "      <td>...</td>\n",
       "      <td>...</td>\n",
       "      <td>...</td>\n",
       "      <td>...</td>\n",
       "      <td>...</td>\n",
       "      <td>...</td>\n",
       "    </tr>\n",
       "    <tr>\n",
       "      <th>52</th>\n",
       "      <td>-0.937952</td>\n",
       "      <td>0.394362</td>\n",
       "      <td>0.191755</td>\n",
       "      <td>-0.556946</td>\n",
       "      <td>-0.819056</td>\n",
       "      <td>1</td>\n",
       "      <td>0</td>\n",
       "      <td>0</td>\n",
       "    </tr>\n",
       "    <tr>\n",
       "      <th>752</th>\n",
       "      <td>0.228026</td>\n",
       "      <td>-0.435834</td>\n",
       "      <td>0.422535</td>\n",
       "      <td>0.295282</td>\n",
       "      <td>0.317046</td>\n",
       "      <td>3</td>\n",
       "      <td>1</td>\n",
       "      <td>1</td>\n",
       "    </tr>\n",
       "    <tr>\n",
       "      <th>492</th>\n",
       "      <td>-0.513960</td>\n",
       "      <td>-0.159102</td>\n",
       "      <td>-1.876035</td>\n",
       "      <td>0.334020</td>\n",
       "      <td>2.021198</td>\n",
       "      <td>0</td>\n",
       "      <td>0</td>\n",
       "      <td>1</td>\n",
       "    </tr>\n",
       "    <tr>\n",
       "      <th>622</th>\n",
       "      <td>0.546020</td>\n",
       "      <td>-1.266031</td>\n",
       "      <td>0.330223</td>\n",
       "      <td>0.217807</td>\n",
       "      <td>0.317046</td>\n",
       "      <td>3</td>\n",
       "      <td>1</td>\n",
       "      <td>1</td>\n",
       "    </tr>\n",
       "    <tr>\n",
       "      <th>316</th>\n",
       "      <td>0.334024</td>\n",
       "      <td>-1.542763</td>\n",
       "      <td>-1.876035</td>\n",
       "      <td>0.450233</td>\n",
       "      <td>-0.535031</td>\n",
       "      <td>2</td>\n",
       "      <td>0</td>\n",
       "      <td>1</td>\n",
       "    </tr>\n",
       "  </tbody>\n",
       "</table>\n",
       "<p>184 rows × 8 columns</p>\n",
       "</div>"
      ],
      "text/plain": [
       "          AGE       PAR  CHOLESTEROL     FCMAX  DEPRESSION   TDT  ANGINE  \\\n",
       "356 -0.831954 -0.989299    -1.876035 -0.905584     0.601071    3       1   \n",
       "763  0.440022 -0.048409     0.191755  1.418673     2.210549    2       0   \n",
       "817  0.652018 -0.435834     0.505616  0.179069     1.831848    3       1   \n",
       "735 -0.513960 -0.712567    -0.140568  0.101594     1.074447    2       0   \n",
       "892 -1.573940  0.283669     0.154830  0.605183    -0.819056    2       0   \n",
       "..        ...       ...          ...       ...          ...  ...     ...   \n",
       "52  -0.937952  0.394362     0.191755 -0.556946    -0.819056    1       0   \n",
       "752  0.228026 -0.435834     0.422535  0.295282     0.317046    3       1   \n",
       "492 -0.513960 -0.159102    -1.876035  0.334020     2.021198    0       0   \n",
       "622  0.546020 -1.266031     0.330223  0.217807     0.317046    3       1   \n",
       "316  0.334024 -1.542763    -1.876035  0.450233    -0.535031    2       0   \n",
       "\n",
       "     PENTE  \n",
       "356      1  \n",
       "763      0  \n",
       "817      1  \n",
       "735      1  \n",
       "892      1  \n",
       "..     ...  \n",
       "52       0  \n",
       "752      1  \n",
       "492      1  \n",
       "622      1  \n",
       "316      1  \n",
       "\n",
       "[184 rows x 8 columns]"
      ]
     },
     "execution_count": 37,
     "metadata": {},
     "output_type": "execute_result"
    }
   ],
   "source": [
    "df_test = pd.concat([X_test_cont_norm,X_test_quali],axis=1)\n",
    "df_test"
   ]
  },
  {
   "cell_type": "code",
   "execution_count": 38,
   "metadata": {},
   "outputs": [
    {
     "data": {
      "text/plain": [
       "AGE            0\n",
       "PAR            0\n",
       "CHOLESTEROL    0\n",
       "FCMAX          0\n",
       "DEPRESSION     0\n",
       "TDT            0\n",
       "ANGINE         0\n",
       "PENTE          0\n",
       "dtype: int64"
      ]
     },
     "execution_count": 38,
     "metadata": {},
     "output_type": "execute_result"
    }
   ],
   "source": [
    "df_test.isna().sum()"
   ]
  },
  {
   "cell_type": "code",
   "execution_count": 39,
   "metadata": {},
   "outputs": [
    {
     "name": "stdout",
     "output_type": "stream",
     "text": [
      "0.8555866182089273\n",
      "RandomForestClassifier(max_depth=10, min_samples_leaf=6, random_state=42)\n"
     ]
    }
   ],
   "source": [
    "RF=RandomForestClassifier(random_state=42)\n",
    "\n",
    "params_RF = {\"max_depth\": [5,10,20,50,100,200],\n",
    "              \"max_features\":['auto', 'sqrt', 'log2'],\n",
    "              \"min_samples_split\": [2,3,5,7],\n",
    "           \"min_samples_leaf\": [1, 3,5,6]}\n",
    "\n",
    "RF_cv= GridSearchCV(RF, params_RF, cv = 5)\n",
    "\n",
    "RF_cv.fit(df_train,y_train)\n",
    "\n",
    "print(RF_cv.best_score_)\n",
    "\n",
    "print(RF_cv.best_estimator_)"
   ]
  },
  {
   "cell_type": "code",
   "execution_count": 40,
   "metadata": {},
   "outputs": [
    {
     "name": "stdout",
     "output_type": "stream",
     "text": [
      "0.8446836268754077\n",
      "SVC(C=1, random_state=42)\n"
     ]
    }
   ],
   "source": [
    "# SVM\n",
    "##from sklearn.svm import SVC\n",
    " \n",
    "svc=SVC(random_state=42)\n",
    "\n",
    "svc_params={'C':[0.1,1,10], 'kernel':['linear','rbf','poly']}\n",
    "\n",
    "svc_cv=GridSearchCV(svc, svc_params , cv = 5)\n",
    "\n",
    "svc_cv.fit(df_train,y_train)\n",
    "\n",
    "print(svc_cv.best_score_)\n",
    "\n",
    "print(svc_cv.best_estimator_)"
   ]
  },
  {
   "cell_type": "code",
   "execution_count": 41,
   "metadata": {},
   "outputs": [
    {
     "name": "stdout",
     "output_type": "stream",
     "text": [
      "0.8378343118069145\n",
      "BaggingClassifier(n_estimators=50, random_state=42)\n"
     ]
    }
   ],
   "source": [
    "#bagging classifier\n",
    "\n",
    "##from sklearn.ensemble import BaggingClassifier\n",
    "\n",
    "bg=BaggingClassifier(random_state=42)\n",
    "\n",
    "params_bg = {'n_estimators': [5,10,20,50,100,200]}\n",
    "\n",
    "bg_cv= GridSearchCV(bg, params_bg, cv = 5)\n",
    "\n",
    "bg_cv.fit(df_train,y_train)\n",
    "\n",
    "print(bg_cv.best_score_)\n",
    "\n",
    "print(bg_cv.best_estimator_)"
   ]
  },
  {
   "cell_type": "code",
   "execution_count": 42,
   "metadata": {},
   "outputs": [
    {
     "name": "stdout",
     "output_type": "stream",
     "text": [
      "0.843295126269686\n",
      "LogisticRegression(C=10, random_state=0)\n"
     ]
    }
   ],
   "source": [
    " #Regression logistique\n",
    "\n",
    "lr= LogisticRegression(random_state=0)\n",
    "\n",
    "lr_hyp_param={'C': [0.001,0.01,0.1, 1.0, 10, 100] }\n",
    "\n",
    "lr_cv=GridSearchCV(lr, lr_hyp_param, cv = 5)\n",
    "\n",
    "lr_cv.fit(df_train,y_train)\n",
    "\n",
    "print(lr_cv.best_score_)\n",
    "print(lr_cv.best_estimator_)"
   ]
  },
  {
   "cell_type": "code",
   "execution_count": 43,
   "metadata": {},
   "outputs": [],
   "source": [
    "#Evaluation de la performance\n",
    "\n",
    "def evaluation_model(model,features,labels):\n",
    "    pred  = model.predict(features)\n",
    "    score = accuracy_score(y_test,pred)\n",
    "    print('Score globale du modèle:', round(score,3))"
   ]
  },
  {
   "cell_type": "code",
   "execution_count": 44,
   "metadata": {},
   "outputs": [
    {
     "name": "stdout",
     "output_type": "stream",
     "text": [
      "model BaggingClassifier(n_estimators=50, random_state=42)\n",
      "Score globale du modèle: 0.842\n",
      "==========================================================================================\n",
      "model SVC(C=1, random_state=42)\n",
      "Score globale du modèle: 0.859\n",
      "==========================================================================================\n",
      "model RandomForestClassifier(max_depth=10, min_samples_leaf=6, random_state=42)\n",
      "Score globale du modèle: 0.853\n",
      "==========================================================================================\n"
     ]
    }
   ],
   "source": [
    "models = [bg_cv.best_estimator_,svc_cv.best_estimator_ ,RF_cv.best_estimator_]\n",
    "for model in models:\n",
    "    print('model ' + str(model))\n",
    "    evaluation_model(model, df_test, y_test)\n",
    "    print('='*90)"
   ]
  },
  {
   "cell_type": "code",
   "execution_count": 45,
   "metadata": {},
   "outputs": [],
   "source": [
    "def courbe_appentissage(model):\n",
    "    \n",
    "    model.fit(df_train, y_train)\n",
    "    predicted = model.predict(df_test)\n",
    "      \n",
    "    acc=accuracy_score(y_test, predicted)\n",
    "    print('acc: ', acc)\n",
    "    \n",
    "    N, train_score, val_score = learning_curve(model, df_train, y_train,\n",
    "                                               cv=5,\n",
    "                                               train_sizes=np.linspace(0.1, 1, 10))\n",
    "    \n",
    "    plt.figure(figsize=(12, 5))\n",
    "    plt.plot(N, train_score.mean(axis=1), label='train')\n",
    "    plt.plot(N, val_score.mean(axis=1), label='validation')\n",
    "    plt.title(model, fontsize=24)\n",
    "    plt.legend()\n",
    "    print('='*90)"
   ]
  },
  {
   "cell_type": "code",
   "execution_count": 46,
   "metadata": {},
   "outputs": [
    {
     "name": "stdout",
     "output_type": "stream",
     "text": [
      "acc:  0.842391304347826\n",
      "==========================================================================================\n",
      "acc:  0.8586956521739131\n",
      "==========================================================================================\n",
      "acc:  0.8532608695652174\n",
      "==========================================================================================\n"
     ]
    },
    {
     "data": {
      "image/png": "[encoded data removed]",
      "text/plain": [
       "<Figure size 864x360 with 1 Axes>"
      ]
     },
     "metadata": {
      "needs_background": "light"
     },
     "output_type": "display_data"
    },
    {
     "data": {
      "image/png": "[encoded data removed]",
      "text/plain": [
       "<Figure size 864x360 with 1 Axes>"
      ]
     },
     "metadata": {
      "needs_background": "light"
     },
     "output_type": "display_data"
    },
    {
     "data": {
      "image/png": "[encoded data removed]",
      "text/plain": [
       "<Figure size 864x360 with 1 Axes>"
      ]
     },
     "metadata": {
      "needs_background": "light"
     },
     "output_type": "display_data"
    }
   ],
   "source": [
    "for model in models:\n",
    "    courbe_appentissage(model)"
   ]
  },
  {
   "cell_type": "code",
   "execution_count": 47,
   "metadata": {},
   "outputs": [],
   "source": [
    "# Réévaluons le modeles la methode RobustScaler et minmax"
   ]
  },
  {
   "cell_type": "code",
   "execution_count": 48,
   "metadata": {},
   "outputs": [],
   "source": [
    "def normaliseur(normal):\n",
    "    X_train_cont_norm = normal.fit_transform(X_train_cont)\n",
    "    X_test_cont_norm  = normal.transform(X_test_cont)\n",
    "    X_train_cont_norm=pd.DataFrame(X_train_cont_norm,columns=X_train_cont.columns,index=X_train_cont.index)\n",
    "    df_train = pd.concat([X_train_cont_norm,X_train_quali],axis=1)\n",
    "    X_test_cont_norm=pd.DataFrame(X_test_cont_norm,columns=X_test_cont.columns,index=X_test_cont.index)\n",
    "    df_test = pd.concat([X_test_cont_norm,X_test_quali],axis=1)\n",
    "    return df_test,df_train"
   ]
  },
  {
   "cell_type": "code",
   "execution_count": 49,
   "metadata": {},
   "outputs": [],
   "source": [
    "df_test,df_train=normaliseur(RobustScaler())"
   ]
  },
  {
   "cell_type": "code",
   "execution_count": 50,
   "metadata": {},
   "outputs": [
    {
     "name": "stdout",
     "output_type": "stream",
     "text": [
      "acc:  0.842391304347826\n",
      "==========================================================================================\n",
      "acc:  0.8369565217391305\n",
      "==========================================================================================\n",
      "acc:  0.8586956521739131\n",
      "==========================================================================================\n"
     ]
    }
   ],
   "source": [
    "for model in models:\n",
    "    model.fit(df_train,y_train)\n",
    "    predicted = model.predict(df_test)      \n",
    "    acc=accuracy_score(y_test, predicted)\n",
    "    print('acc: ', acc)\n",
    "    print(90*'=')"
   ]
  },
  {
   "cell_type": "code",
   "execution_count": 51,
   "metadata": {},
   "outputs": [],
   "source": [
    "def courbe_appentissage(model):\n",
    "    \n",
    "    model.fit(df_train, y_train)\n",
    "    predicted = model.predict(df_test)\n",
    "      \n",
    "    acc=accuracy_score(y_test, predicted)\n",
    "    print('acc: ', acc)\n",
    "    \n",
    "    N, train_score, val_score = learning_curve(model, df_train, y_train,\n",
    "                                               cv=5,\n",
    "                                               train_sizes=np.linspace(0.1, 1, 10))\n",
    "    \n",
    "    plt.figure(figsize=(12, 5))\n",
    "    plt.plot(N, train_score.mean(axis=1), label='train')\n",
    "    plt.plot(N, val_score.mean(axis=1), label='validation')\n",
    "    plt.title(model, fontsize=24)\n",
    "    plt.legend()\n",
    "    print('='*90)"
   ]
  },
  {
   "cell_type": "code",
   "execution_count": 52,
   "metadata": {},
   "outputs": [
    {
     "name": "stdout",
     "output_type": "stream",
     "text": [
      "acc:  0.842391304347826\n",
      "==========================================================================================\n",
      "acc:  0.8369565217391305\n",
      "==========================================================================================\n",
      "acc:  0.8586956521739131\n",
      "==========================================================================================\n"
     ]
    },
    {
     "data": {
      "image/png": "[encoded data removed]",
      "text/plain": [
       "<Figure size 864x360 with 1 Axes>"
      ]
     },
     "metadata": {
      "needs_background": "light"
     },
     "output_type": "display_data"
    },
    {
     "data": {
      "image/png": "[encoded data removed]",
      "text/plain": [
       "<Figure size 864x360 with 1 Axes>"
      ]
     },
     "metadata": {
      "needs_background": "light"
     },
     "output_type": "display_data"
    },
    {
     "data": {
      "image/png": "[encoded data removed]",
      "text/plain": [
       "<Figure size 864x360 with 1 Axes>"
      ]
     },
     "metadata": {
      "needs_background": "light"
     },
     "output_type": "display_data"
    }
   ],
   "source": [
    "for model in models:\n",
    "    courbe_appentissage(model)"
   ]
  },
  {
   "cell_type": "code",
   "execution_count": 53,
   "metadata": {},
   "outputs": [],
   "source": [
    "df_test,df_train=normaliseur(MinMaxScaler())"
   ]
  },
  {
   "cell_type": "code",
   "execution_count": 54,
   "metadata": {},
   "outputs": [
    {
     "name": "stdout",
     "output_type": "stream",
     "text": [
      "acc:  0.842391304347826\n",
      "==========================================================================================\n",
      "acc:  0.8097826086956522\n",
      "==========================================================================================\n",
      "acc:  0.8532608695652174\n",
      "==========================================================================================\n"
     ]
    }
   ],
   "source": [
    "for model in models:\n",
    "    model.fit(df_train,y_train)\n",
    "    predicted = model.predict(df_test)      \n",
    "    acc=accuracy_score(y_test, predicted)\n",
    "    print('acc: ', acc)\n",
    "    print(90*'=')"
   ]
  },
  {
   "cell_type": "code",
   "execution_count": 55,
   "metadata": {},
   "outputs": [],
   "source": [
    "def courbe_appentissage(model):\n",
    "    \n",
    "    model.fit(df_train, y_train)\n",
    "    predicted = model.predict(df_test)\n",
    "      \n",
    "    acc=accuracy_score(y_test, predicted)\n",
    "    print('acc: ', acc)\n",
    "    \n",
    "    N, train_score, val_score = learning_curve(model, df_train, y_train,\n",
    "                                               cv=5,\n",
    "                                               train_sizes=np.linspace(0.1, 1, 10))\n",
    "    \n",
    "    plt.figure(figsize=(12, 5))\n",
    "    plt.plot(N, train_score.mean(axis=1), label='train')\n",
    "    plt.plot(N, val_score.mean(axis=1), label='validation')\n",
    "    plt.title(model, fontsize=24)\n",
    "    plt.legend()\n",
    "    print('='*90)"
   ]
  },
  {
   "cell_type": "code",
   "execution_count": 56,
   "metadata": {},
   "outputs": [
    {
     "name": "stdout",
     "output_type": "stream",
     "text": [
      "acc:  0.842391304347826\n",
      "==========================================================================================\n",
      "acc:  0.8097826086956522\n",
      "==========================================================================================\n",
      "acc:  0.8532608695652174\n",
      "==========================================================================================\n"
     ]
    },
    {
     "data": {
      "image/png": "[encoded data removed]",
      "text/plain": [
       "<Figure size 864x360 with 1 Axes>"
      ]
     },
     "metadata": {
      "needs_background": "light"
     },
     "output_type": "display_data"
    },
    {
     "data": {
      "image/png": "[encoded data removed]",
      "text/plain": [
       "<Figure size 864x360 with 1 Axes>"
      ]
     },
     "metadata": {
      "needs_background": "light"
     },
     "output_type": "display_data"
    },
    {
     "data": {
      "image/png": "[encoded data removed]",
      "text/plain": [
       "<Figure size 864x360 with 1 Axes>"
      ]
     },
     "metadata": {
      "needs_background": "light"
     },
     "output_type": "display_data"
    }
   ],
   "source": [
    "for model in models:\n",
    "    courbe_appentissage(model)"
   ]
  },
  {
   "cell_type": "markdown",
   "metadata": {},
   "source": [
    "le modele le plus performant en terme de taux de bien classé avec une meilleur stabilité est celui de randomforest lorqu'on ne fait aucune forme de  normalisation avec un pourcentage de 87.5%"
   ]
  },
  {
   "cell_type": "code",
   "execution_count": null,
   "metadata": {},
   "outputs": [],
   "source": []
  },
  {
   "cell_type": "code",
   "execution_count": null,
   "metadata": {},
   "outputs": [],
   "source": []
  },
  {
   "cell_type": "code",
   "execution_count": null,
   "metadata": {},
   "outputs": [],
   "source": []
  },
  {
   "cell_type": "code",
   "execution_count": null,
   "metadata": {},
   "outputs": [],
   "source": []
  },
  {
   "cell_type": "code",
   "execution_count": null,
   "metadata": {},
   "outputs": [],
   "source": []
  }
 ],
 "metadata": {
  "kernelspec": {
   "display_name": "Python 3",
   "language": "python",
   "name": "python3"
  },
  "language_info": {
   "codemirror_mode": {
    "name": "ipython",
    "version": 3
   },
   "file_extension": ".py",
   "mimetype": "text/x-python",
   "name": "python",
   "nbconvert_exporter": "python",
   "pygments_lexer": "ipython3",
   "version": "3.8.5"
  }
 },
 "nbformat": 4,
 "nbformat_minor": 4
}
