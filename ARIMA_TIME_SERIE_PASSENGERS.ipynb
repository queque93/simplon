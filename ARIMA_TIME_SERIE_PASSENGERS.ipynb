{
 "cells": [
  {
   "cell_type": "markdown",
   "metadata": {},
   "source": [
    "#   Analyse de series temporelles et Modelisation  avec  \"Air Passengers \""
   ]
  },
  {
   "cell_type": "markdown",
   "metadata": {},
   "source": [
    "objectif de cette analyse et de cette modélisation est de revoir la théorie des séries temporelles et d'expérimenter avec les packages R.\n",
    "Nous suivrons une procédure de modélisation ARIMA de l'ensemble de données AirPassengers comme suit :\n",
    "1. Effectuer une analyse exploratoire des données\n",
    "2. Décomposition des données\n",
    "3. Tester la stationnarité\n",
    "4. Ajuster un modèle à l'aide d'un algorithme automatisé\n",
    "5. Calculer les prévisions"
   ]
  },
  {
   "cell_type": "markdown",
   "metadata": {},
   "source": [
    "# CHARGEMENT DES PACKAGES NECESSAIRES"
   ]
  },
  {
   "cell_type": "code",
   "execution_count": 1,
   "metadata": {},
   "outputs": [
    {
     "ename": "NameError",
     "evalue": "name 'install' is not defined",
     "output_type": "error",
     "traceback": [
      "\u001b[1;31m---------------------------------------------------------------------------\u001b[0m",
      "\u001b[1;31mNameError\u001b[0m                                 Traceback (most recent call last)",
      "\u001b[1;32m~\\AppData\\Local\\Temp/ipykernel_13556/145091160.py\u001b[0m in \u001b[0;36m<module>\u001b[1;34m\u001b[0m\n\u001b[1;32m----> 1\u001b[1;33m \u001b[0minstall\u001b[0m\u001b[1;33m.\u001b[0m\u001b[0mpackages\u001b[0m\u001b[1;33m(\u001b[0m\u001b[1;34m\"ggfortify\"\u001b[0m\u001b[1;33m)\u001b[0m\u001b[1;33m\u001b[0m\u001b[1;33m\u001b[0m\u001b[0m\n\u001b[0m\u001b[0;32m      2\u001b[0m \u001b[0mlibrary\u001b[0m\u001b[1;33m(\u001b[0m\u001b[0mggfortify\u001b[0m\u001b[1;33m)\u001b[0m\u001b[1;33m\u001b[0m\u001b[1;33m\u001b[0m\u001b[0m\n",
      "\u001b[1;31mNameError\u001b[0m: name 'install' is not defined"
     ]
    }
   ],
   "source": [
    "install.packages(\"ggfortify\")\n",
    "library(ggfortify)"
   ]
  },
  {
   "cell_type": "code",
   "execution_count": null,
   "metadata": {},
   "outputs": [],
   "source": [
    "install.packages(\"tseries\")"
   ]
  },
  {
   "cell_type": "code",
   "execution_count": null,
   "metadata": {},
   "outputs": [],
   "source": [
    "library(tseries)"
   ]
  },
  {
   "cell_type": "code",
   "execution_count": null,
   "metadata": {},
   "outputs": [],
   "source": [
    "install.packages(\"forecast\")"
   ]
  },
  {
   "cell_type": "code",
   "execution_count": null,
   "metadata": {},
   "outputs": [],
   "source": [
    "library(forecast)"
   ]
  },
  {
   "cell_type": "code",
   "execution_count": null,
   "metadata": {},
   "outputs": [],
   "source": [
    "install.packages(\"ggplot2\")"
   ]
  },
  {
   "cell_type": "code",
   "execution_count": null,
   "metadata": {},
   "outputs": [],
   "source": [
    "library(ggplot2)"
   ]
  },
  {
   "cell_type": "markdown",
   "metadata": {},
   "source": [
    "# IMPORTATION DU JEU DE DONNEES PASSENGERS"
   ]
  },
  {
   "cell_type": "code",
   "execution_count": null,
   "metadata": {},
   "outputs": [],
   "source": [
    "data(AirPassengers)\n",
    "AP <- AirPassengers"
   ]
  },
  {
   "cell_type": "code",
   "execution_count": null,
   "metadata": {},
   "outputs": [],
   "source": [
    "AP"
   ]
  },
  {
   "cell_type": "code",
   "execution_count": null,
   "metadata": {},
   "outputs": [],
   "source": [
    "# Determination de la classe du jeu de données \n",
    "class(AP)"
   ]
  },
  {
   "cell_type": "markdown",
   "metadata": {},
   "source": [
    "L'ensemble de données AirPassenger dans R fournit les totaux mensuels des passagers d'une compagnie aérienne américaine, de 1949 à 1960. Cet ensemble de données est déjà d'une classe de série chronologique, donc aucune autre manipulation de classe ou de date n'est requise."
   ]
  },
  {
   "cell_type": "markdown",
   "metadata": {},
   "source": [
    "# PARTIE 1: ANALYSE EXPLORATOIRE DES DONNÉES"
   ]
  },
  {
   "cell_type": "code",
   "execution_count": null,
   "metadata": {},
   "outputs": [],
   "source": [
    "#verification de données manquantes"
   ]
  },
  {
   "cell_type": "code",
   "execution_count": null,
   "metadata": {},
   "outputs": [],
   "source": [
    "sum(is.na(AP))"
   ]
  },
  {
   "cell_type": "code",
   "execution_count": null,
   "metadata": {},
   "outputs": [],
   "source": [
    "# Vérification de la fréquence de la série temporelle\n",
    "\n",
    "frequency(AP)"
   ]
  },
  {
   "cell_type": "code",
   "execution_count": null,
   "metadata": {},
   "outputs": [],
   "source": [
    "# Verification du cycle de la serie temporelle\n",
    "cycle(AP)"
   ]
  },
  {
   "cell_type": "code",
   "execution_count": null,
   "metadata": {},
   "outputs": [],
   "source": [
    "# Consultation du résumé \n",
    "summary(AP)\n",
    "#0749509930"
   ]
  },
  {
   "cell_type": "code",
   "execution_count": null,
   "metadata": {},
   "outputs": [],
   "source": [
    "# Tracer les données brutes \n",
    "plot(AP,xlab=\"Date\", ylab = \"Passenger numbers (1000's)\",main=\"Air Passenger numbers from 1949 to 1961\")"
   ]
  },
  {
   "cell_type": "code",
   "execution_count": null,
   "metadata": {},
   "outputs": [],
   "source": [
    "autoplot(AP) + labs(x =\"Date\", y = \"Passenger numbers (1000's)\", title=\"Air Passengers from 1949 to 1961\")"
   ]
  },
  {
   "cell_type": "markdown",
   "metadata": {},
   "source": [
    "Comme alternative à la fonction plot , nous pouvons donc également utiliser le package d'extension ggfortify R du package ggplot2, pour tracer directement à partir d'une série temporelle. Les avantages sont de ne pas avoir à convertir en une trame de données comme requis avec ggplot2, mais d'avoir toujours accès à la grammaire de superposition des graphiques."
   ]
  },
  {
   "cell_type": "code",
   "execution_count": null,
   "metadata": {},
   "outputs": [],
   "source": [
    "# Observation des effets saisonnières"
   ]
  },
  {
   "cell_type": "code",
   "execution_count": null,
   "metadata": {},
   "outputs": [],
   "source": [
    "boxplot(AP~cycle(AP),xlab=\"Date\", ylab = \"Passenger Numbers (1000's)\" ,main =\"Monthly Air Passengers Boxplot from 1949 to 1961\")"
   ]
  },
  {
   "cell_type": "markdown",
   "metadata": {},
   "source": [
    "À partir de ces graphiques exploratoires, nous pouvons faire quelques premières inférences :\n",
    "\n",
    "- Le nombre de passagers augmente au fil du temps chaque année, ce qui peut indiquer une tendance linéaire à la hausse, peut-être en raison de la demande croissante de voyages aériens et de la commercialisation des compagnies aériennes au cours de cette période.\n",
    "- Dans la boîte à moustaches, il y a plus de passagers voyageant au cours des mois 6 à 9 avec des moyennes et des variances plus élevées que les autres mois, indiquant une saisonnalité avec un cycle apparent de 12 mois. La raison pour cela pourrait être qu'un plus grand nombre de personnes prennent des vacances et prennent l'avion pendant les mois d'été aux États-Unis.\n",
    "- Les passagers aériens semblent être des séries chronologiques multiplicatives à mesure que le nombre de passagers augmente, il en va de même pour le modèle de saisonnalité.\n",
    "- Il ne semble pas y avoir de valeurs aberrantes et il n'y a pas de valeurs manquantes. Par conséquent, aucun nettoyage des données n'est requis."
   ]
  },
  {
   "cell_type": "markdown",
   "metadata": {},
   "source": [
    "# PARTIE 2 : DECOMPOSITION DE LA SERIE TEMPORELLE"
   ]
  },
  {
   "cell_type": "markdown",
   "metadata": {},
   "source": [
    "Nous allons décomposer la série chronologique pour les estimations des composantes tendancielles, saisonnières et aléatoires en utilisant la méthode de la moyenne mobile.\n",
    "Le modèle multiplicatif est :\n",
    "\n",
    "   \n",
    "       Y[t]=T[t]∗S[t]∗e[t], où\n",
    "       \n",
    "           - Y[t] est le nombre de passager au temps t\n",
    "           - T[t] est la composante de tendance au temps t,\n",
    "           - S[t] est la composante saisonnière au temps t,\n",
    "           - e[t] est la composante d'erreur aléatoire au temps t."
   ]
  },
  {
   "cell_type": "markdown",
   "metadata": {},
   "source": [
    "Avec ce modèle, nous utiliserons la fonction de décomposition dans R. En continuant à utiliser ggfortify pour les graphiques, sur une seule ligne, tracez automatiquement ces composants décomposés pour analyser davantage les données."
   ]
  },
  {
   "cell_type": "code",
   "execution_count": null,
   "metadata": {},
   "outputs": [],
   "source": [
    "decomposeAP <- decompose(AP,\"multiplicative\")\n",
    "autoplot(decomposeAP)"
   ]
  },
  {
   "cell_type": "markdown",
   "metadata": {},
   "source": [
    "Dans ces graphiques décomposés, nous pouvons à nouveau voir la tendance et la saisonnalité déduites précédemment, mais nous pouvons également observer l'estimation de la composante aléatoire représentée sous le « reste »."
   ]
  },
  {
   "cell_type": "markdown",
   "metadata": {},
   "source": [
    "# Part 3: TEST DE  STATIONARITE DE LA SERIE  TEMPORELLE"
   ]
  },
  {
   "cell_type": "markdown",
   "metadata": {},
   "source": [
    "Une série chronologique stationnaire a les conditions que la moyenne, la variance et la covariance ne sont pas des fonctions du temps. Afin de s'adapter aux modèles arima, la série chronologique doit être stationnaire. Nous utiliserons deux méthodes pour tester la stationnarité."
   ]
  },
  {
   "cell_type": "markdown",
   "metadata": {},
   "source": [
    "1. Tester la stationnarité de la série temporelle (ADF)\n",
    "\n",
    "Afin de tester la stationnarité de la série temporelle, exécutons le test  Dickey-Fuller en utilisant la fonction adf.test du package tseries R.\n",
    "Commençons  par définir le test d'hypothèse :\n",
    "\n",
    "L'hypothèse nulle H0 : la série temporelle est non stationnaire\n",
    "\n",
    "L'hypothèse alternative H1 : la série temporelle est stationnaire"
   ]
  },
  {
   "cell_type": "code",
   "execution_count": null,
   "metadata": {},
   "outputs": [],
   "source": [
    "adf.test(AP) "
   ]
  },
  {
   "cell_type": "markdown",
   "metadata": {},
   "source": [
    "En règle générale, lorsque la valeur p est inférieure à 5 %, nous avons des preuves solides contre l'hypothèse nulle, nous rejetons donc l'hypothèse nulle. Selon les résultats du test ci-dessus, la valeur p est de 0,01, ce qui est inférieur à  0,05. Par conséquent, nous rejetons la valeur nulle en faveur de l'hypothèse alternative selon laquelle la série chronologique est stationnaire."
   ]
  },
  {
   "cell_type": "markdown",
   "metadata": {},
   "source": [
    "2. Test de la stationnarité de la série temporelle (Autocorrélation)\n",
    "\n",
    "Une autre façon de tester la stationnarité consiste à utiliser l'autocorrélation. Nous utiliserons la fonction d'autocorrélation (acf) dans le package R de statistiques de base. Cette fonction trace la corrélation entre une série et ses décalages c'est-à-dire les observations précédentes avec un intervalle de confiance à 95% en bleu. Si l'autocorrélation traverse la ligne bleue en pointillés, cela signifie que le décalage spécifique est significativement corrélé avec la série actuelle."
   ]
  },
  {
   "cell_type": "code",
   "execution_count": null,
   "metadata": {},
   "outputs": [],
   "source": [
    "autoplot(acf(AP,plot=FALSE))+ labs(title=\"Correlogram of Air Passengers from 1949 to 1961\") "
   ]
  },
  {
   "cell_type": "markdown",
   "metadata": {},
   "source": [
    "Le maximum avec un décalage de 1 ou 12 mois, indique une relation positive avec le cycle de 12 mois.\n",
    "\n",
    "Puisque nous avons déjà créé l'objet liste decomposeAP avec un composant aléatoire, nous pouvons tracer l'acf de decomposeAP$random."
   ]
  },
  {
   "cell_type": "code",
   "execution_count": null,
   "metadata": {},
   "outputs": [],
   "source": [
    "#Examiner les séries temporelles aléatoires pour toute valeur manquante\n",
    "decomposeAP$random "
   ]
  },
  {
   "cell_type": "code",
   "execution_count": null,
   "metadata": {},
   "outputs": [],
   "source": [
    "#Autoplot de la série temporelle aléatoire à partir de 7:138 pour exclure les valeurs manquantes \"NA\"\n",
    "autoplot(acf(decomposeAP$random[7:138],plot=FALSE))+ labs(title=\"Correlogram of Air Passengers Random Component from 1949 to 1961\") "
   ]
  },
  {
   "cell_type": "markdown",
   "metadata": {},
   "source": [
    "On voit que l'acf des résidus est centré autour de 0."
   ]
  },
  {
   "cell_type": "markdown",
   "metadata": {},
   "source": [
    "# PARTIE 4 : MODELISATION DE LA SERIE TEMPORELLE "
   ]
  },
  {
   "cell_type": "markdown",
   "metadata": {},
   "source": [
    "1. Modèle linéaire\n",
    "\n",
    "Puisqu'il y a une tendance à la hausse, nous examinerons d'abord un modèle linéaire à des fins de comparaison. Nous traçons l'ensemble de données brutes AirPassengers avec un modèle linéaire bleu."
   ]
  },
  {
   "cell_type": "code",
   "execution_count": null,
   "metadata": {},
   "outputs": [],
   "source": [
    "autoplot(AP) + geom_smooth(method=\"lm\")+ labs(x =\"Date\", y = \"Passenger numbers (1000's)\", title=\"Air Passengers from 1949 to 1961\")"
   ]
  },
  {
   "cell_type": "markdown",
   "metadata": {},
   "source": [
    "Ce n'est peut-être pas le meilleur modèle pour s'adapter car il ne capture pas la saisonnalité et les effets multiplicatifs au fil du temps."
   ]
  },
  {
   "cell_type": "markdown",
   "metadata": {},
   "source": [
    "2. Modèle ARIMA\n",
    "\n",
    "Utilisez la fonction auto.arima du package R de prévision pour ajuster le meilleur modèle et les meilleurs coefficients, compte tenu des paramètres par défaut, y compris la saisonnalité comme TRUE. Notez que nous avons utilisé la procédure de modélisation ARIMA comme référencé"
   ]
  },
  {
   "cell_type": "code",
   "execution_count": null,
   "metadata": {},
   "outputs": [],
   "source": [
    "arimaAP <- auto.arima(AP)\n",
    "arimaAP"
   ]
  },
  {
   "cell_type": "markdown",
   "metadata": {},
   "source": [
    "Les paramètres du modèle ARIMA(2,1,1)(0,1,0)[12] sont la différenciation de décalage 1 (d), un terme autorégressif de second décalage (p) et un modèle de moyenne mobile d'ordre 1 (q). Ensuite, le modèle saisonnier a un terme autorégressif de premier décalage (D) à la période du modèle 12 unités, dans ce cas des mois."
   ]
  },
  {
   "cell_type": "markdown",
   "metadata": {},
   "source": [
    "# Le modele arima est :\n",
    " \n",
    "                  Ypredit= 0.5960Y_(t-2)+0.2143Y_(t-12)-0.9819e_(t-1)+E\n",
    "                  \n",
    "              Où E est une erreur.\n",
    "              \n",
    "  La fonction ggtsdiag du package ggfortify R effectue des diagnostics de modèle des résidus et de l'acf. comprendra un   d'autocovariance.                \n",
    "              "
   ]
  },
  {
   "cell_type": "code",
   "execution_count": null,
   "metadata": {},
   "outputs": [],
   "source": [
    "install.packages(\"ggtsdiag\")"
   ]
  },
  {
   "cell_type": "markdown",
   "metadata": {},
   "source": [
    "# Part 5: CALCULONS LES PRÉVISIONS\n",
    "\n",
    "Enfin, nous pouvons tracer une prévision de la série chronologique à l'aide de la fonction de prévision, toujours à partir du package de prévision R, avec un intervalle de confiance de 95 % où h correspond aux périodes de l'horizon de prévision en mois"
   ]
  },
  {
   "cell_type": "code",
   "execution_count": null,
   "metadata": {},
   "outputs": [],
   "source": [
    "forecastAP <- forecast(arimaAP, level = c(95), h = 36)\n",
    "autoplot(forecastAP)"
   ]
  },
  {
   "cell_type": "code",
   "execution_count": null,
   "metadata": {},
   "outputs": [],
   "source": []
  }
 ],
 "metadata": {
  "kernelspec": {
   "display_name": "Python 3",
   "language": "python",
   "name": "python3"
  },
  "language_info": {
   "codemirror_mode": {
    "name": "ipython",
    "version": 3
   },
   "file_extension": ".py",
   "mimetype": "text/x-python",
   "name": "python",
   "nbconvert_exporter": "python",
   "pygments_lexer": "ipython3",
   "version": "3.8.5"
  }
 },
 "nbformat": 4,
 "nbformat_minor": 5
}
