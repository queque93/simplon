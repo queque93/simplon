{
 "cells": [
  {
   "cell_type": "markdown",
   "metadata": {},
   "source": [
    "#  CREATION D'UNE FONCTION QUI CALCUL LA VITESSE"
   ]
  },
  {
   "cell_type": "code",
   "execution_count": 1,
   "metadata": {},
   "outputs": [],
   "source": [
    "def vitesse(d,t):\n",
    "    try:\n",
    "        v=d/t\n",
    "        return v\n",
    "    except ZeroDivisionError:\n",
    "        print(\" valeur de t ne doit pas etre nulle \")"
   ]
  },
  {
   "cell_type": "code",
   "execution_count": 2,
   "metadata": {},
   "outputs": [
    {
     "data": {
      "text/plain": [
       "5.0"
      ]
     },
     "execution_count": 2,
     "metadata": {},
     "output_type": "execute_result"
    }
   ],
   "source": [
    "vitesse(15,3)"
   ]
  },
  {
   "cell_type": "markdown",
   "metadata": {},
   "source": [
    "# CREATION D'UNE FONCTION POUR L'INDICE DE MASSE CORPORELLE"
   ]
  },
  {
   "cell_type": "code",
   "execution_count": 3,
   "metadata": {},
   "outputs": [],
   "source": [
    "def IMC(masse,taille):\n",
    "    if taille<=0:\n",
    "        print(\"Entrez une taille strictement positive\")\n",
    "    imc=masse/(taille**2)\n",
    "    if imc<18.5:\n",
    "        print(\"Insuffisance pondéré\")\n",
    "    elif imc>=18.5 and imc<25:\n",
    "        print(\"corpulance normale\")\n",
    "    elif imc>=25 and imc<30:\n",
    "        print(\"surpoids\")\n",
    "    elif imc>=30 and imc<35:\n",
    "        print(\"obesité modéré\")\n",
    "    elif imc>=35 and imc<40:\n",
    "        print(\"obesité sévère\")\n",
    "    else :\n",
    "        print(\"obésité morbide\")\n",
    "    return IMC"
   ]
  },
  {
   "cell_type": "code",
   "execution_count": 4,
   "metadata": {},
   "outputs": [
    {
     "name": "stdout",
     "output_type": "stream",
     "text": [
      "surpoids\n"
     ]
    },
    {
     "data": {
      "text/plain": [
       "<function __main__.IMC(masse, taille)>"
      ]
     },
     "execution_count": 4,
     "metadata": {},
     "output_type": "execute_result"
    }
   ],
   "source": [
    "IMC(105,2.01)"
   ]
  },
  {
   "cell_type": "markdown",
   "metadata": {},
   "source": [
    "# remarque: une procedure affiche un resultat qui ne sera pas utiliser pour d'autre calcul tandis qu'une fonction retourne un resultat utilisable pour des calculs supplementaire."
   ]
  },
  {
   "cell_type": "code",
   "execution_count": 5,
   "metadata": {},
   "outputs": [
    {
     "name": "stdout",
     "output_type": "stream",
     "text": [
      "Entrez une taille strictement positive\n",
      "obésité morbide\n"
     ]
    },
    {
     "data": {
      "text/plain": [
       "<function __main__.IMC(masse, taille)>"
      ]
     },
     "execution_count": 5,
     "metadata": {},
     "output_type": "execute_result"
    }
   ],
   "source": [
    "IMC(58,-1)"
   ]
  },
  {
   "cell_type": "markdown",
   "metadata": {},
   "source": [
    "#  CREATION D'UN POLYNOME"
   ]
  },
  {
   "cell_type": "code",
   "execution_count": 6,
   "metadata": {},
   "outputs": [],
   "source": [
    "def poly(x):\n",
    "    return x**2+3*x+1"
   ]
  },
  {
   "cell_type": "code",
   "execution_count": 7,
   "metadata": {},
   "outputs": [
    {
     "data": {
      "text/plain": [
       "19"
      ]
     },
     "execution_count": 7,
     "metadata": {},
     "output_type": "execute_result"
    }
   ],
   "source": [
    "poly(3)"
   ]
  },
  {
   "cell_type": "code",
   "execution_count": 8,
   "metadata": {},
   "outputs": [],
   "source": [
    "poly=lambda x:x**2+3*x+1"
   ]
  },
  {
   "cell_type": "code",
   "execution_count": 9,
   "metadata": {},
   "outputs": [
    {
     "data": {
      "text/plain": [
       "19"
      ]
     },
     "execution_count": 9,
     "metadata": {},
     "output_type": "execute_result"
    }
   ],
   "source": [
    "poly(3)"
   ]
  },
  {
   "cell_type": "markdown",
   "metadata": {},
   "source": [
    "#  fonction d'indice de masse corporelle retournant la valeur et l'interpretation "
   ]
  },
  {
   "cell_type": "code",
   "execution_count": 10,
   "metadata": {},
   "outputs": [],
   "source": [
    "def IMC(masse,taille):\n",
    "    if taille<=0:\n",
    "        return print(\"Entrez une taille strictement positive\")\n",
    "    imc=masse/(taille**2)\n",
    "    if imc<18.5:\n",
    "        message=\"Insuffisance pondéré\"\n",
    "    elif imc>=18.5 and imc<25:\n",
    "        message=\"corpulance normale\"\n",
    "    elif imc>=25 and imc<30:\n",
    "        message=\"surpoids\"\n",
    "    elif imc>=30 and imc<35:\n",
    "        message=\"obesité modéré\"\n",
    "    elif imc>=35 and imc<40:\n",
    "        message=\"obesité sévère\"\n",
    "    else :\n",
    "        message=\"obésité morbide\"\n",
    "    return imc,message"
   ]
  },
  {
   "cell_type": "code",
   "execution_count": 11,
   "metadata": {},
   "outputs": [
    {
     "name": "stdout",
     "output_type": "stream",
     "text": [
      "22.22222222222222 corpulance normale\n"
     ]
    }
   ],
   "source": [
    "a,b = IMC(50,1.5)\n",
    "print(a,b)"
   ]
  },
  {
   "cell_type": "markdown",
   "metadata": {},
   "source": [
    "# Table de multiplication par 3"
   ]
  },
  {
   "cell_type": "code",
   "execution_count": 12,
   "metadata": {},
   "outputs": [],
   "source": [
    "def multiplication(n):\n",
    "    for i in range(11):\n",
    "        print(n,\"x\",i,\"=\",i*n)"
   ]
  },
  {
   "cell_type": "code",
   "execution_count": 13,
   "metadata": {},
   "outputs": [
    {
     "name": "stdout",
     "output_type": "stream",
     "text": [
      "3 x 0 = 0\n",
      "3 x 1 = 3\n",
      "3 x 2 = 6\n",
      "3 x 3 = 9\n",
      "3 x 4 = 12\n",
      "3 x 5 = 15\n",
      "3 x 6 = 18\n",
      "3 x 7 = 21\n",
      "3 x 8 = 24\n",
      "3 x 9 = 27\n",
      "3 x 10 = 30\n"
     ]
    }
   ],
   "source": [
    "multiplication(3)"
   ]
  },
  {
   "cell_type": "code",
   "execution_count": 14,
   "metadata": {},
   "outputs": [],
   "source": [
    "# la methode fstring"
   ]
  },
  {
   "cell_type": "code",
   "execution_count": 15,
   "metadata": {},
   "outputs": [],
   "source": [
    "def multiplication(n):\n",
    "    for i in range(1, 11):\n",
    "        print(f\"{n}x{i}={n*i} \")"
   ]
  },
  {
   "cell_type": "code",
   "execution_count": 16,
   "metadata": {},
   "outputs": [
    {
     "name": "stdout",
     "output_type": "stream",
     "text": [
      "3x1=3 \n",
      "3x2=6 \n",
      "3x3=9 \n",
      "3x4=12 \n",
      "3x5=15 \n",
      "3x6=18 \n",
      "3x7=21 \n",
      "3x8=24 \n",
      "3x9=27 \n",
      "3x10=30 \n"
     ]
    }
   ],
   "source": [
    "multiplication(3)"
   ]
  },
  {
   "cell_type": "code",
   "execution_count": 17,
   "metadata": {},
   "outputs": [],
   "source": [
    "#la methode format"
   ]
  },
  {
   "cell_type": "markdown",
   "metadata": {},
   "source": [
    "#  creation d'une liste de nombre de la table de multiplication par 3"
   ]
  },
  {
   "cell_type": "code",
   "execution_count": 19,
   "metadata": {},
   "outputs": [],
   "source": [
    "def liste_multip_3(n):\n",
    "    liste=[]\n",
    "    for i in range(1,11):\n",
    "        liste.append(n*i)\n",
    "    return liste "
   ]
  },
  {
   "cell_type": "code",
   "execution_count": 20,
   "metadata": {},
   "outputs": [
    {
     "data": {
      "text/plain": [
       "[3, 6, 9, 12, 15, 18, 21, 24, 27, 30]"
      ]
     },
     "execution_count": 20,
     "metadata": {},
     "output_type": "execute_result"
    }
   ],
   "source": [
    "liste_multip_3(3)"
   ]
  },
  {
   "cell_type": "markdown",
   "metadata": {},
   "source": [
    "# creation d'une liste en comprehension"
   ]
  },
  {
   "cell_type": "code",
   "execution_count": 23,
   "metadata": {},
   "outputs": [],
   "source": [
    "#ecriture en comprehension\n",
    "def tab_multi(n):\n",
    "    ma_liste=[i*n for i in range(1,11)]\n",
    "    return ma_liste"
   ]
  },
  {
   "cell_type": "code",
   "execution_count": 24,
   "metadata": {},
   "outputs": [
    {
     "data": {
      "text/plain": [
       "[3, 6, 9, 12, 15, 18, 21, 24, 27, 30]"
      ]
     },
     "execution_count": 24,
     "metadata": {},
     "output_type": "execute_result"
    }
   ],
   "source": [
    "tab_multi(3)"
   ]
  },
  {
   "cell_type": "markdown",
   "metadata": {},
   "source": [
    "# creation d'un dictionnaire"
   ]
  },
  {
   "cell_type": "code",
   "execution_count": null,
   "metadata": {},
   "outputs": [],
   "source": [
    "def dico(n):\n",
    "    d={}\n",
    "    for i in range(1,11):\n",
    "        nom=f\" {n}x{i}\"\n",
    "        d[nom]=n*i\n",
    "    return d"
   ]
  },
  {
   "cell_type": "code",
   "execution_count": 37,
   "metadata": {},
   "outputs": [
    {
     "name": "stdout",
     "output_type": "stream",
     "text": [
      "{' 3x1': 3, ' 3x2': 6, ' 3x3': 9, ' 3x4': 12, ' 3x5': 15, ' 3x6': 18, ' 3x7': 21, ' 3x8': 24, ' 3x9': 27, ' 3x10': 30}\n"
     ]
    }
   ],
   "source": [
    "print(dico(3))"
   ]
  },
  {
   "cell_type": "code",
   "execution_count": 38,
   "metadata": {},
   "outputs": [],
   "source": [
    "#creation de dictionnaire en se servant des fonctions precedent"
   ]
  },
  {
   "cell_type": "code",
   "execution_count": 43,
   "metadata": {},
   "outputs": [],
   "source": [
    "#liste comprehension"
   ]
  },
  {
   "cell_type": "code",
   "execution_count": 52,
   "metadata": {},
   "outputs": [],
   "source": [
    "def dict(n):\n",
    "    dico={ str(n) +  \"x\" + str(i) : n*i  for i in range(1,11) }\n",
    "    return dico"
   ]
  },
  {
   "cell_type": "code",
   "execution_count": 53,
   "metadata": {},
   "outputs": [
    {
     "name": "stdout",
     "output_type": "stream",
     "text": [
      "{'3x1': 3, '3x2': 6, '3x3': 9, '3x4': 12, '3x5': 15, '3x6': 18, '3x7': 21, '3x8': 24, '3x9': 27, '3x10': 30}\n"
     ]
    }
   ],
   "source": [
    "print(dict(3))"
   ]
  },
  {
   "cell_type": "code",
   "execution_count": 54,
   "metadata": {},
   "outputs": [],
   "source": [
    "#ecriture d'une fonction qui prend en entrée une liste et renvoie la moyenne des elements impaires"
   ]
  },
  {
   "cell_type": "code",
   "execution_count": 65,
   "metadata": {},
   "outputs": [],
   "source": [
    "def moy_impaire(liste):\n",
    "    s=0\n",
    "    compt=0\n",
    "    for i in liste:\n",
    "        if i%2 != 0:\n",
    "            s+=i\n",
    "            compt=compt+1\n",
    "            moy= s/compt\n",
    "    return moy     "
   ]
  },
  {
   "cell_type": "code",
   "execution_count": 66,
   "metadata": {},
   "outputs": [
    {
     "data": {
      "text/plain": [
       "5.0"
      ]
     },
     "execution_count": 66,
     "metadata": {},
     "output_type": "execute_result"
    }
   ],
   "source": [
    "moy_impaire([1,2,3,4,5,6,7,8,9,10])"
   ]
  },
  {
   "cell_type": "code",
   "execution_count": 67,
   "metadata": {},
   "outputs": [],
   "source": [
    "#en utilisant les fonctions somme et len "
   ]
  },
  {
   "cell_type": "code",
   "execution_count": 68,
   "metadata": {},
   "outputs": [],
   "source": [
    "def cal_impaire(liste):\n",
    "    liste_impaire=[]\n",
    "    for i in liste:\n",
    "        if i%2 != 0:\n",
    "            liste_impaire.append(i)\n",
    "            moy=sum(liste_impaire)/len(liste_impaire)\n",
    "    return moy"
   ]
  },
  {
   "cell_type": "code",
   "execution_count": 69,
   "metadata": {},
   "outputs": [
    {
     "data": {
      "text/plain": [
       "5.0"
      ]
     },
     "execution_count": 69,
     "metadata": {},
     "output_type": "execute_result"
    }
   ],
   "source": [
    "cal_impaire([1,2,3,4,5,6,7,8,9,10])"
   ]
  },
  {
   "cell_type": "code",
   "execution_count": 76,
   "metadata": {},
   "outputs": [],
   "source": [
    "#en utilisant la fonction remove\n",
    "\n",
    "def cal_impaire_1(liste):\n",
    "    for i in liste:\n",
    "        if i%2==0:\n",
    "            liste.remove(i)\n",
    "    return sum(liste)/len(liste)\n"
   ]
  },
  {
   "cell_type": "code",
   "execution_count": 78,
   "metadata": {},
   "outputs": [
    {
     "data": {
      "text/plain": [
       "5.0"
      ]
     },
     "execution_count": 78,
     "metadata": {},
     "output_type": "execute_result"
    }
   ],
   "source": [
    "cal_impaire_1([1,2,3,4,5,6,7,8,9,10])"
   ]
  },
  {
   "cell_type": "code",
   "execution_count": 79,
   "metadata": {},
   "outputs": [],
   "source": [
    "#En passant par les index\n",
    "\n",
    "def moy_impair_2(L):\n",
    "    liste_impair=[]\n",
    "    for i in range(len(L)):\n",
    "        if (L[i]%2 != 0):\n",
    "            liste_impair.append(L[i])\n",
    "    return sum( liste_impair)/len( liste_impair)\n"
   ]
  },
  {
   "cell_type": "code",
   "execution_count": 80,
   "metadata": {},
   "outputs": [
    {
     "data": {
      "text/plain": [
       "5.0"
      ]
     },
     "execution_count": 80,
     "metadata": {},
     "output_type": "execute_result"
    }
   ],
   "source": [
    "moy_impair_2([1,2,3,4,5,6,7,8,9,10])"
   ]
  },
  {
   "cell_type": "code",
   "execution_count": null,
   "metadata": {},
   "outputs": [],
   "source": []
  }
 ],
 "metadata": {
  "kernelspec": {
   "display_name": "Python 3",
   "language": "python",
   "name": "python3"
  },
  "language_info": {
   "codemirror_mode": {
    "name": "ipython",
    "version": 3
   },
   "file_extension": ".py",
   "mimetype": "text/x-python",
   "name": "python",
   "nbconvert_exporter": "python",
   "pygments_lexer": "ipython3",
   "version": "3.8.5"
  }
 },
 "nbformat": 4,
 "nbformat_minor": 4
}
